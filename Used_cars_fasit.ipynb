{
  "nbformat": 4,
  "nbformat_minor": 0,
  "metadata": {
    "colab": {
      "name": "Used cars - fasit.ipynb",
      "version": "0.3.2",
      "provenance": [],
      "collapsed_sections": [],
      "toc_visible": true
    },
    "kernelspec": {
      "name": "python3",
      "display_name": "Python 3"
    }
  },
  "cells": [
    {
      "metadata": {
        "id": "2ok0EovpXHab",
        "colab_type": "text"
      },
      "cell_type": "markdown",
      "source": [
        "# Used Cars\n",
        "\n",
        "Nå skal vi forsøke å anvende maskinlæringsmodeller på bruktbilmarkedet. Used cars inneholder informasjon om ca. 150 bruktbiler som har blitt solgt, og til hvilken pris. I denne oppgaven får du prøve å predikere/forutsi på hvilken girkasse den solgte bilen hadde, og etterpå gjette på hvilken pris bilen ble solgt for."
      ]
    },
    {
      "metadata": {
        "id": "TsSLBwKoaPpU",
        "colab_type": "text"
      },
      "cell_type": "markdown",
      "source": [
        "## Forberedelser"
      ]
    },
    {
      "metadata": {
        "id": "B9njFUrUbKz-",
        "colab_type": "text"
      },
      "cell_type": "markdown",
      "source": [
        "Importer nødvendige biblioteker"
      ]
    },
    {
      "metadata": {
        "id": "oGIGrS4kZORH",
        "colab_type": "code",
        "colab": {}
      },
      "cell_type": "code",
      "source": [
        "# Biblioteket som vi bruker for å lese og behandle datasettet som kommer fra CSV.\n",
        "import pandas as pd\n",
        "\n",
        "# I supervised learning er hver input koblet til en fasit, også kalt \"label\".\n",
        "# LabelEncoder brukes for å gjøre fasiten enklere å behandle.\n",
        "from sklearn.preprocessing import LabelEncoder\n",
        "\n",
        "# Til slutt må vi importere maskinlæringsmodellene som vi bruker for å trene.\n",
        "from sklearn import model_selection, metrics, svm"
      ],
      "execution_count": 0,
      "outputs": []
    },
    {
      "metadata": {
        "id": "Z49An3oIZQ_B",
        "colab_type": "text"
      },
      "cell_type": "markdown",
      "source": [
        "Bruk pandas og importer datasettet som ligger https://github.com/djick/ML101/blob/master/data/usedcars.csv"
      ]
    },
    {
      "metadata": {
        "id": "_98Gf7jyV0XR",
        "colab_type": "code",
        "colab": {}
      },
      "cell_type": "code",
      "source": [
        "!wget -q https://raw.githubusercontent.com/djick/ML101/master/data/usedcars.csv -O usedcars.csv\n",
        "usedcars = pd.read_csv(\"usedcars.csv\")"
      ],
      "execution_count": 0,
      "outputs": []
    },
    {
      "metadata": {
        "id": "hRKlKED6bxtH",
        "colab_type": "text"
      },
      "cell_type": "markdown",
      "source": [
        "Undersøk hva som faktisk ligger i datasettet, hva som skal gå inn i maskinlæringsmodellen, og modellen skal prøve å forutsi."
      ]
    },
    {
      "metadata": {
        "id": "azCxRvJYcHOa",
        "colab_type": "code",
        "colab": {}
      },
      "cell_type": "code",
      "source": [
        "print(\"De første radene i CSV-filen:\")\n",
        "print(usedcars.head(10))"
      ],
      "execution_count": 0,
      "outputs": []
    },
    {
      "metadata": {
        "id": "Lo06jjYPiHPI",
        "colab_type": "text"
      },
      "cell_type": "markdown",
      "source": [
        "Her får vi se alle featurene som vi har å jobbe med, og er det jo noen muligheter for hva man kan prøve å forutsi. Hvilken som helst av disse kolonnene kan være labelen, altså det man maskinlæringsmodellen skal prøve å gjette.\n",
        "\n",
        "Videre, gjør litt statistikk og analyse av hvordan de numeriske verdiene er distribuert hvis du vil."
      ]
    },
    {
      "metadata": {
        "id": "-D1pbSKWiERS",
        "colab_type": "code",
        "colab": {}
      },
      "cell_type": "code",
      "source": [
        "print(\"Statistiske verdier for datasettet:\")\n",
        "print(usedcars.describe())\n",
        "\n",
        "print(\"\\nKlassedistrubisjon: \")\n",
        "print()\n",
        "print(usedcars.groupby(\"transmission\").size())\n",
        "print()\n",
        "print(usedcars.groupby(\"model\").size())\n",
        "print()\n",
        "print(usedcars.groupby(\"color\").size())\n",
        "\n",
        "import matplotlib.pyplot as plt\n",
        "print(\"\\nPris:\")\n",
        "plt.hist(usedcars[\"price\"])\n",
        "plt.show"
      ],
      "execution_count": 0,
      "outputs": []
    },
    {
      "metadata": {
        "id": "bP5_BqLJjiQB",
        "colab_type": "text"
      },
      "cell_type": "markdown",
      "source": [
        "Da maskinlæringsmodellene som vi bruker liker numeriske verdier bedre enn ord må vi endre på noe av datasettet. \n",
        "\n",
        "\n",
        "\n",
        "\n"
      ]
    },
    {
      "metadata": {
        "id": "YShSevC-kFb5",
        "colab_type": "code",
        "colab": {}
      },
      "cell_type": "code",
      "source": [
        "encoder = LabelEncoder()\n",
        "# Tilpasser encoderen til featuren \"model\"\n",
        "encoder.fit(usedcars[\"model\"])\n",
        "# Endrer den faktiske verdien i datasettet. Modellen \"SEL\" blir f.eks. til klasse \"1\".\n",
        "usedcars[\"model\"] = encoder.fit_transform(usedcars[\"model\"])\n",
        "\n",
        "# Resetter encoderen\n",
        "encoder = LabelEncoder()\n",
        "# Gjør det samme for \"color\"\n",
        "encoder.fit(usedcars[\"color\"])\n",
        "usedcars[\"color\"] = encoder.fit_transform(usedcars[\"color\"])\n"
      ],
      "execution_count": 0,
      "outputs": []
    },
    {
      "metadata": {
        "id": "WK-FQjqgk52u",
        "colab_type": "text"
      },
      "cell_type": "markdown",
      "source": [
        "Vi har to kategorier med potensielle labels som man kan bruke til enten\n",
        "\n",
        "1. classification: Labelsene puttes i hver sin boks eller klasse. F.eks. verdiene i kolonnen \"color\". Fargen gul har ikke noen sammenheng med fargen hvit, derav klassene. Totalt så har vi `model`, `color`, `transmission` i vårt datasett.\n",
        "2. eller regression: Labelsene finnes på samme dimensjon. Pris er et bra eksempel. I vårt datasett har vi `year`, `price` og `mileage`.\n",
        "\n",
        "Sjekk nå hvordan datasettet ser ut. Du *kan* også sjekke hvordan distribusjonen av featurene er nå, men det skal være det samme som før fordi det eneste du gjorde var å oversette featurene."
      ]
    },
    {
      "metadata": {
        "id": "Wnxr-ZBglBZI",
        "colab_type": "code",
        "colab": {}
      },
      "cell_type": "code",
      "source": [
        "# TODO print ut noen rader og sjekk.\n",
        "print(usedcars.head(10))"
      ],
      "execution_count": 0,
      "outputs": []
    },
    {
      "metadata": {
        "id": "GrI8NnU4rZzu",
        "colab_type": "text"
      },
      "cell_type": "markdown",
      "source": [
        "Separer features fra targets. Targets er hva du har lyst å prøve å forutsi."
      ]
    },
    {
      "metadata": {
        "id": "AYPMmaNjraRv",
        "colab_type": "code",
        "colab": {}
      },
      "cell_type": "code",
      "source": [
        "verdier = usedcars[[\"year\", \"model\", \"price\", \"mileage\", \"color\"]]\n",
        "klasser = usedcars[\"transmission\"]"
      ],
      "execution_count": 0,
      "outputs": []
    },
    {
      "metadata": {
        "id": "Alg7ELvas_jB",
        "colab_type": "text"
      },
      "cell_type": "markdown",
      "source": [
        "Nå er tiden inne for å dele datasettet opp i trening og test."
      ]
    },
    {
      "metadata": {
        "id": "o6hv374_roNd",
        "colab_type": "code",
        "colab": {}
      },
      "cell_type": "code",
      "source": [
        "X_train, X_test, y_train, y_test = model_selection.train_test_split(verdier, klasser, test_size=0.33, random_state=1)"
      ],
      "execution_count": 0,
      "outputs": []
    },
    {
      "metadata": {
        "id": "VpAh2VdrtbzC",
        "colab_type": "text"
      },
      "cell_type": "markdown",
      "source": [
        "`X` er featurene og `y` er labelsene. `test_size=0.33` betyr at du tar vare på 33 % av hele datasettet til å validere hvor bra modellen ble trent. `random_state` settes for å shuffle til alle bilene; da unngår man at test- og treningsgruppene blir skjevt fordelt."
      ]
    },
    {
      "metadata": {
        "id": "CdR9so2Tj1Iv",
        "colab_type": "text"
      },
      "cell_type": "markdown",
      "source": [
        "## Tren modellen\n",
        "Forarbeidet er gjort. Vi må velge hvilken maskinlæringsmodell vi vil gå for, og deretter trene modellen. Det finnes ganske mange modeller å gå for, alt etter hva `target` er. Det vi vet helt sikkert er at vi skal gå for modeller innenfor supervised learning fordi vi har fasiten, og at vi skal gå for classification (ikke regression) fordi vi skal prøve å forutsi transmission-type. Nå er google din venn, og Scikit learn sine websider har bra med dokumentasjon og tutorials.\n",
        "\n",
        "Et raskt websøk gir https://medium.com/cracking-the-data-science-interview/a-tour-of-the-top-10-algorithms-for-machine-learning-newbies-7228aa8ef541\n",
        "\n",
        "En oversikt over hvilke modeller Scikit learn har å tilby: https://scikit-learn.org/stable/supervised_learning.html"
      ]
    },
    {
      "metadata": {
        "id": "zOJTr4ummHyY",
        "colab_type": "code",
        "colab": {}
      },
      "cell_type": "code",
      "source": [
        "## Lag en klassifiseringsmodell\n",
        "print(\"Modell:\")\n",
        "# Benytter SVM - Support Vector Machine\n",
        "classifier = svm.SVC()\n",
        "print(classifier)\n",
        "print(60 * \"=\")"
      ],
      "execution_count": 0,
      "outputs": []
    },
    {
      "metadata": {
        "id": "_wsuoJgBuyIb",
        "colab_type": "text"
      },
      "cell_type": "markdown",
      "source": [
        "Tren modellen!"
      ]
    },
    {
      "metadata": {
        "id": "V4NeM6mkuyR3",
        "colab_type": "code",
        "colab": {}
      },
      "cell_type": "code",
      "source": [
        "classifier.fit(X_train, y_train)"
      ],
      "execution_count": 0,
      "outputs": []
    },
    {
      "metadata": {
        "id": "AX_DqYKzj4tl",
        "colab_type": "text"
      },
      "cell_type": "markdown",
      "source": [
        "## Test modellen\n",
        "De 33 % av datasettet vi sparte i stad får vi nå bruk for."
      ]
    },
    {
      "metadata": {
        "id": "p8VVOGxymJyd",
        "colab_type": "code",
        "colab": {}
      },
      "cell_type": "code",
      "source": [
        "# Prediker (test)\n",
        "prediksjoner = classifier.predict(X_test)"
      ],
      "execution_count": 0,
      "outputs": []
    },
    {
      "metadata": {
        "id": "Lk_x_7CHmPwz",
        "colab_type": "text"
      },
      "cell_type": "markdown",
      "source": [
        "`prediksjoner` bør nå være så lik som mulig `y_test`."
      ]
    },
    {
      "metadata": {
        "id": "WMhVAopUmMdA",
        "colab_type": "code",
        "colab": {}
      },
      "cell_type": "code",
      "source": [
        "print(\"Resultater:\")\n",
        "print(metrics.classification_report(y_test, prediksjoner, target_names=usedcars[\"transmission\"].unique()))\n",
        "print(60 * \"=\")\n",
        "\n",
        "print(\"Confusion matrix:\")\n",
        "print(metrics.confusion_matrix(y_test, prediksjoner))\n",
        "print(60 * \"=\")"
      ],
      "execution_count": 0,
      "outputs": []
    },
    {
      "metadata": {
        "id": "3I3F2rw0yOtg",
        "colab_type": "text"
      },
      "cell_type": "markdown",
      "source": [
        "Utfør noen stikkprøver og sjekk hvor ofte modellen treffer riktig."
      ]
    },
    {
      "metadata": {
        "id": "0gAtgDo8-7-K",
        "colab_type": "code",
        "colab": {}
      },
      "cell_type": "code",
      "source": [
        "print(\"Forutsigelser:\")\n",
        "print(y_test.head(10))\n",
        "print(\"Fasit:\")\n",
        "print(prediksjoner[0:10])"
      ],
      "execution_count": 0,
      "outputs": []
    },
    {
      "metadata": {
        "id": "FJiF0WE7Gor3",
        "colab_type": "text"
      },
      "cell_type": "markdown",
      "source": [
        "Hvor bra ble det? Hvorfor ble resultatet slik det ble?\n",
        "\n",
        "Finnes det andre modeller som gir bedre resultat enn `SVM`?"
      ]
    },
    {
      "metadata": {
        "id": "9-DleblBgfjp",
        "colab_type": "text"
      },
      "cell_type": "markdown",
      "source": [
        "# Ny modell – pris\n",
        "\n",
        "Det som kanskje er mer artig er å gjette prisen på en bruktbil. Gjenbruk mye av det ovenfor, men i stedet for å velge `transmission` som target skal du nå velge `price`. Her vil det ikke holde med `SVM` da den brukes til klassifisering. Nå må du se etter en modell som kan utføre regression."
      ]
    },
    {
      "metadata": {
        "id": "DbTuUYrA62mf",
        "colab_type": "code",
        "colab": {}
      },
      "cell_type": "code",
      "source": [
        "# TODO importer en modell fra sklearn som kan utføre regression\n",
        "from sklearn.linear_model import LinearRegression\n",
        "\n",
        "encoder = LabelEncoder()\n",
        "encoder.fit(usedcars[\"transmission\"])\n",
        "usedcars[\"transmission\"] = encoder.fit_transform(usedcars[\"transmission\"])\n",
        "\n",
        "# TODO velg nytt target, dvs. price\n",
        "verdier = usedcars[[\"year\", \"model\", \"transmission\", \"mileage\", \"color\"]]\n",
        "klasser = usedcars[\"price\"]\n",
        "\n",
        "# TODO del opp i trening og test\n",
        "X_train, X_test, y_train, y_test = model_selection.train_test_split(verdier, klasser, test_size=0.33, random_state=1)\n",
        "\n",
        "# TODO opprett en instans av modellen du valgte å importere\n",
        "classifier = LinearRegression()\n",
        "print(classifier)\n",
        "print(60 * \"=\")\n",
        "\n",
        "# TODO tren\n",
        "classifier.fit(X_train, y_train)\n",
        "\n"
      ],
      "execution_count": 0,
      "outputs": []
    },
    {
      "metadata": {
        "id": "f36pG3CWMNar",
        "colab_type": "code",
        "colab": {}
      },
      "cell_type": "code",
      "source": [
        "print(X_test.head())\n",
        "print(X_train.head())\n",
        "print()\n",
        "\n",
        "\n",
        "# TODO Prediker/gjett!\n",
        "prediksjoner = classifier.predict(X_test)\n",
        "\n",
        "print(\"Fasit:\")\n",
        "print(y_test.head(5))\n",
        "print(\"Prediksjoner:\")\n",
        "print(prediksjoner[0:5])"
      ],
      "execution_count": 0,
      "outputs": []
    },
    {
      "metadata": {
        "id": "34_73XaXjw0y",
        "colab_type": "text"
      },
      "cell_type": "markdown",
      "source": [
        "Hvor liten andel trening i forhold til test kan du la modellen trene på, og fortsatt få en modell som gjør det OK?"
      ]
    }
  ]
}