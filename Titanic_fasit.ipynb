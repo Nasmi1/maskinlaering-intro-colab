{
  "nbformat": 4,
  "nbformat_minor": 0,
  "metadata": {
    "colab": {
      "name": "Titanic - fasit.ipynb",
      "version": "0.3.2",
      "provenance": [],
      "toc_visible": true
    },
    "kernelspec": {
      "name": "python3",
      "display_name": "Python 3"
    }
  },
  "cells": [
    {
      "metadata": {
        "id": "5P9AChdq1i8g",
        "colab_type": "text"
      },
      "cell_type": "markdown",
      "source": [
        "#Titanic"
      ]
    },
    {
      "metadata": {
        "id": "CX0StaD81nJC",
        "colab_type": "text"
      },
      "cell_type": "markdown",
      "source": [
        "Vi skal jobbe med det datasett som heter Titanic. I dette datasette har man en oversikt over alle mennesker som var på Titanic, hvor det er markert om en gitt person overlevde. Vi skal prøve å se om vi klarer å predikere om en person overlevde basert på data som vi har."
      ]
    },
    {
      "metadata": {
        "id": "SeaKXN_wo6lC",
        "colab_type": "text"
      },
      "cell_type": "markdown",
      "source": [
        "# Forberedelser"
      ]
    },
    {
      "metadata": {
        "id": "T0N6Dl19xoXo",
        "colab_type": "text"
      },
      "cell_type": "markdown",
      "source": [
        "For å jobbe med maskinlæring må vi først forberede data til analyse.\n",
        "\n"
      ]
    },
    {
      "metadata": {
        "id": "6z6CDxQdyK2j",
        "colab_type": "text"
      },
      "cell_type": "markdown",
      "source": [
        "## Laste ned data"
      ]
    },
    {
      "metadata": {
        "id": "UhQxOOqrUl9g",
        "colab_type": "text"
      },
      "cell_type": "markdown",
      "source": [
        "Først må vi laste ned data. Datasettet ligger i en csv-fil på nettet. Du kan lett laste den den med en linux-kommando:"
      ]
    },
    {
      "metadata": {
        "id": "7KCYeGe0pCk9",
        "colab_type": "code",
        "colab": {}
      },
      "cell_type": "code",
      "source": [
        "!wget -q https://goo.gl/p7RMjN -O titanic_set.csv"
      ],
      "execution_count": 0,
      "outputs": []
    },
    {
      "metadata": {
        "id": "9UOpxapUVBiW",
        "colab_type": "text"
      },
      "cell_type": "markdown",
      "source": [
        "Nå kan du se at under \"Files\" til venstre ligger det en fil \"train.csv\" (husk å trykke \"Refresh\"). Det er vårt datasett som vi skal jobbe videre med."
      ]
    },
    {
      "metadata": {
        "id": "4_DfAYkuSkBE",
        "colab_type": "text"
      },
      "cell_type": "markdown",
      "source": [
        "## Importere biblioteker"
      ]
    },
    {
      "metadata": {
        "id": "lGerYZOtulKV",
        "colab_type": "text"
      },
      "cell_type": "markdown",
      "source": [
        "Vi må importere de nødvendige bibliotekene for å kunne jobbe videre med våre data."
      ]
    },
    {
      "metadata": {
        "id": "_yzekbLCurE7",
        "colab_type": "text"
      },
      "cell_type": "markdown",
      "source": [
        "`pandas` er et python-bibliotek som brukes til manipulering og analyse av data. \n",
        "\n",
        "`sklearn` står for scikit-learn og det er et stort python-bibliotek som brukes til maskinlæring"
      ]
    },
    {
      "metadata": {
        "id": "OsVKqHJDyB7S",
        "colab_type": "code",
        "colab": {}
      },
      "cell_type": "code",
      "source": [
        "from sklearn import model_selection, metrics, svm\n",
        "from sklearn.preprocessing import LabelEncoder\n",
        "import pandas as pd"
      ],
      "execution_count": 0,
      "outputs": []
    },
    {
      "metadata": {
        "id": "BDnOahOPWcz9",
        "colab_type": "text"
      },
      "cell_type": "markdown",
      "source": [
        "## Analysere og rense data"
      ]
    },
    {
      "metadata": {
        "id": "BIYPzd7micdR",
        "colab_type": "text"
      },
      "cell_type": "markdown",
      "source": [
        "Vi kan starte med å lese data inn:"
      ]
    },
    {
      "metadata": {
        "id": "bbnkj2zZ6mFo",
        "colab_type": "code",
        "colab": {}
      },
      "cell_type": "code",
      "source": [
        "titanic = pd.read_csv(\"titanic_set.csv\")"
      ],
      "execution_count": 0,
      "outputs": []
    },
    {
      "metadata": {
        "id": "OxzbZjQFifxA",
        "colab_type": "text"
      },
      "cell_type": "markdown",
      "source": [
        "Vi kan også ta en titt på hvordan data er strukturert. Man kan, for eksempel, skrive ut de ti første radene."
      ]
    },
    {
      "metadata": {
        "id": "QQ7-cTvAVTv5",
        "colab_type": "code",
        "colab": {}
      },
      "cell_type": "code",
      "source": [
        "print(titanic.head(10))"
      ],
      "execution_count": 0,
      "outputs": []
    },
    {
      "metadata": {
        "id": "IvaYiH5yiqaV",
        "colab_type": "text"
      },
      "cell_type": "markdown",
      "source": [
        "Her ser vi at vi har informasjon om passasjerer - id, navn, kjønn, alder, hvilken lugar de hadde, hvor mye de betalte og mye mer. Vi kan også se hvem av dem som har overlevd (\"Survived\"). Det er denne informasjonen vi kan predikere ut ifra annen informasjon som vi har."
      ]
    },
    {
      "metadata": {
        "id": "lArNYXRcjnW4",
        "colab_type": "text"
      },
      "cell_type": "markdown",
      "source": [
        "Vår fasit ligger altså i kolonnen \"Survived\". Vi kan lagre denne, og samtidig slette kolonnen fra datasettet for å kunne jobbe videre med data. La oss først se på formatet av fasiten vår:"
      ]
    },
    {
      "metadata": {
        "id": "mv_RdtWmCUIH",
        "colab_type": "code",
        "colab": {}
      },
      "cell_type": "code",
      "source": [
        "labels = titanic[\"Survived\"]\n",
        "print(labels)"
      ],
      "execution_count": 0,
      "outputs": []
    },
    {
      "metadata": {
        "id": "s3mZD6s9kX_c",
        "colab_type": "text"
      },
      "cell_type": "markdown",
      "source": [
        "Og nå kan vi slette denne kolonnen:"
      ]
    },
    {
      "metadata": {
        "id": "zZy2BXqfjtBl",
        "colab_type": "code",
        "colab": {}
      },
      "cell_type": "code",
      "source": [
        "del titanic[\"Survived\"]"
      ],
      "execution_count": 0,
      "outputs": []
    },
    {
      "metadata": {
        "id": "NQKiTZDwkbwN",
        "colab_type": "text"
      },
      "cell_type": "markdown",
      "source": [
        "Vi kan skrive ut datasettet igjen for å sjekke hvordan det ser ut nå:"
      ]
    },
    {
      "metadata": {
        "id": "ykMC0AlSkgtY",
        "colab_type": "code",
        "colab": {}
      },
      "cell_type": "code",
      "source": [
        "print(titanic.head(10))"
      ],
      "execution_count": 0,
      "outputs": []
    },
    {
      "metadata": {
        "id": "zLlBEhpqkmHk",
        "colab_type": "text"
      },
      "cell_type": "markdown",
      "source": [
        "Vi trenger litt mer datatransformasjon for å analysere data. Vi bør bl.a. konvertere priser til hele verdier og normalisere dem:"
      ]
    },
    {
      "metadata": {
        "id": "_swuhmD7CYVY",
        "colab_type": "code",
        "colab": {}
      },
      "cell_type": "code",
      "source": [
        "le_priser = LabelEncoder()\n",
        "le_priser.fit(titanic[\"Fare\"])\n",
        "titanic[\"Fare\"] = le_priser.fit_transform(titanic[\"Fare\"])\n",
        "print(titanic.head(10))"
      ],
      "execution_count": 0,
      "outputs": []
    },
    {
      "metadata": {
        "id": "KPBEufTjoYfe",
        "colab_type": "text"
      },
      "cell_type": "markdown",
      "source": [
        "Vi trenger ikke kolonner med manglende verdier, så disse kan vi bare slette:"
      ]
    },
    {
      "metadata": {
        "id": "1EeSutGcCbkV",
        "colab_type": "code",
        "colab": {}
      },
      "cell_type": "code",
      "source": [
        "titanic = titanic.dropna(axis=1)\n",
        "print(titanic.head(10))"
      ],
      "execution_count": 0,
      "outputs": []
    },
    {
      "metadata": {
        "id": "8ZNE2C9KptGL",
        "colab_type": "text"
      },
      "cell_type": "markdown",
      "source": [
        "##Dele data opp"
      ]
    },
    {
      "metadata": {
        "id": "sAQ6DuvhoiO6",
        "colab_type": "text"
      },
      "cell_type": "markdown",
      "source": [
        "Til slutt må vi dele datasettet opp i test og trening, og etterpå er vi klare til maskinlæring!"
      ]
    },
    {
      "metadata": {
        "id": "bNZ4WHc7o7oW",
        "colab_type": "text"
      },
      "cell_type": "markdown",
      "source": [
        "`X_train` og `X_test` inneholder data som vi skal bruke for å predikere om en person overlevde, mens `y_train` og `y_test` inneholder fasiten (kolonnen Survived)"
      ]
    },
    {
      "metadata": {
        "id": "wmFmfaKpCe-S",
        "colab_type": "code",
        "colab": {}
      },
      "cell_type": "code",
      "source": [
        "X_train, X_test, y_train, y_test = model_selection.train_test_split(titanic._get_numeric_data(),\n",
        "                                                                    labels, test_size=0.33,\n",
        "                                                                    random_state=1)"
      ],
      "execution_count": 0,
      "outputs": []
    },
    {
      "metadata": {
        "id": "5u_3Ev6LGT-X",
        "colab_type": "text"
      },
      "cell_type": "markdown",
      "source": [
        "# Maskinlæring"
      ]
    },
    {
      "metadata": {
        "id": "qW2TCWEWyA3G",
        "colab_type": "text"
      },
      "cell_type": "markdown",
      "source": [
        "Vi starter med å lage en modell. I dette tilfellet har vi valgt å bruke SVM - support vector machine. Kort fortalt, representerer en SVM-modell alle elementer i treningssettet som punkter i et rom, kartlagt slik at eksempler på de forskjellige kategoriene er delt ved et gap. Nye eksempler blir satt inn i det samme rommet og kategorisert basert på hvilken side av gapet de havner. (Hunstad, Christian, and Daniel Reinholdt. Maskinlæring for predikering av live odds. MS thesis. NTNU, 2017)"
      ]
    },
    {
      "metadata": {
        "id": "gnPwtBKzEhAB",
        "colab_type": "code",
        "colab": {}
      },
      "cell_type": "code",
      "source": [
        "classifier = svm.SVC(gamma=0.001, C=100.)\n",
        "print(classifier)"
      ],
      "execution_count": 0,
      "outputs": []
    },
    {
      "metadata": {
        "id": "hB_S1bwWsVDf",
        "colab_type": "text"
      },
      "cell_type": "markdown",
      "source": [
        "Så skal vi trene modellen. Vi bruker treningssettet `X_train` og fasiten `y_train`"
      ]
    },
    {
      "metadata": {
        "id": "7__tZifkEkV9",
        "colab_type": "code",
        "colab": {}
      },
      "cell_type": "code",
      "source": [
        "classifier.fit(X_train, y_train)\n"
      ],
      "execution_count": 0,
      "outputs": []
    },
    {
      "metadata": {
        "id": "CflnKFAYsiIS",
        "colab_type": "text"
      },
      "cell_type": "markdown",
      "source": [
        "Og da er vi klare til å predikere! Vi bruker testsettet for å teste vår classifier, og prøver å si for hver person i testsettet om h\\*n overlevde eller ikke"
      ]
    },
    {
      "metadata": {
        "id": "tXt4ux45Ekk3",
        "colab_type": "code",
        "colab": {}
      },
      "cell_type": "code",
      "source": [
        "prediksjoner = classifier.predict(X_test)"
      ],
      "execution_count": 0,
      "outputs": []
    },
    {
      "metadata": {
        "id": "kHFL4JfSs2t2",
        "colab_type": "text"
      },
      "cell_type": "markdown",
      "source": [
        "Det eneste som gjenstår nå, er å se hvor bra classifier-en klarte det. Da kan vi sammenligne våre prediksjoner med fasiten. Den enkleste måten å gjøre det på, er å se på *precision* og *recall*. **Precision** er antall relevante elementer blant alle elementer som er valgt, og **recall** er antall relevante elementer blant alle de valgte.\n",
        "\n"
      ]
    },
    {
      "metadata": {
        "id": "C5UE8JSMxKgu",
        "colab_type": "text"
      },
      "cell_type": "markdown",
      "source": [
        "Man kan beregne precision og recall manuelt, ved å telle antall true positives, true negatives, false positives og false negatives, eller man kan også bruke noen innebygde rapporter i sklearn. De gir gjerne litt mer informasjon om statistikk - f1-score, micro, macro og weighted average. Du kan lese mer om den rapporten som vi skal bruke, [her](https://scikit-learn.org/stable/modules/generated/sklearn.metrics.classification_report.html)"
      ]
    },
    {
      "metadata": {
        "id": "9Fpj5wgeEkwU",
        "colab_type": "code",
        "colab": {}
      },
      "cell_type": "code",
      "source": [
        "print(\"Resultater:\")\n",
        "print(metrics.classification_report(y_test, prediksjoner, target_names=[\"Nei\", \"Ja\"]))"
      ],
      "execution_count": 0,
      "outputs": []
    },
    {
      "metadata": {
        "id": "XmWz2sDpyI7Q",
        "colab_type": "text"
      },
      "cell_type": "markdown",
      "source": [
        "Som vi ser, er presisjonen ikke så høy - dette skyldes, mest sannsynlig, et litt for lite datasett. Allikevel, klarer algoritmen i 62% av tilfeller si riktig om en gitt person overlevde Titanic-turen."
      ]
    },
    {
      "metadata": {
        "id": "tT1874tvylkS",
        "colab_type": "text"
      },
      "cell_type": "markdown",
      "source": [
        "Vi kan også ta en titt på confusion matrix - en måte å visualisere prestasjonen til algoritmen på. I en sånn matrise kan vi se hvor mange personer som faktisk overlevde, ble klassifisert som overlevde, og det motsatte - hvor mange døde var faktisk døde."
      ]
    },
    {
      "metadata": {
        "id": "k46fUz_eEsdJ",
        "colab_type": "code",
        "colab": {}
      },
      "cell_type": "code",
      "source": [
        "print(\"Confusion matrix:\")\n",
        "print(metrics.confusion_matrix(y_test, prediksjoner))\n"
      ],
      "execution_count": 0,
      "outputs": []
    }
  ]
}