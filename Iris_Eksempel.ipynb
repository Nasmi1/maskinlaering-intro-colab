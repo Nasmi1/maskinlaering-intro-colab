{
  "nbformat": 4,
  "nbformat_minor": 0,
  "metadata": {
    "colab": {
      "name": "Iris - Eksempel.ipynb",
      "version": "0.3.2",
      "provenance": [],
      "collapsed_sections": []
    },
    "kernelspec": {
      "name": "python3",
      "display_name": "Python 3"
    },
    "accelerator": "GPU"
  },
  "cells": [
    {
      "metadata": {
        "id": "yfpdigEAW2V3",
        "colab_type": "text"
      },
      "cell_type": "markdown",
      "source": [
        "# Google Colaboratory\n",
        "\n",
        "---\n",
        "\n",
        "Google Colaboratory er et gratis verktøy for maskinlæring utviklet av Google som gjør det mulig å jobbe med maskinlæring uten noe form for konfigurasjon. Koden kjøres i på virituell maskin dedikert til din konto. For mer informasjon se: https://research.google.com/colaboratory/faq.html. \n",
        "\n",
        "Google har flere eksempler på hvordan du bruker verktøyet. Du finner disse ved å besøke https://colab.research.google.com/notebooks/welcome.ipynb#recent=true og velge fanen \"Examples\"."
      ]
    },
    {
      "metadata": {
        "id": "dn31Bl0Qgxb2",
        "colab_type": "text"
      },
      "cell_type": "markdown",
      "source": [
        "### Google Colab"
      ]
    },
    {
      "metadata": {
        "id": "fDo_qzv8guPB",
        "colab_type": "code",
        "colab": {}
      },
      "cell_type": "code",
      "source": [
        "# Du kan skrive kommentarer\n",
        "\n",
        "print(\"Du kan skrive vanlig Pythonkode\")\n"
      ],
      "execution_count": 0,
      "outputs": []
    },
    {
      "metadata": {
        "id": "YYivKsSaSvmn",
        "colab_type": "text"
      },
      "cell_type": "markdown",
      "source": [
        "# Eksempel - Iris\n",
        "\n",
        "---\n",
        "\n",
        "\n",
        "I dag skal vi jobbe med Iris-datasettet. Dette datasettet inneholder informasjon om ulike Iris-blomster. Det er viktig å forstå hva du skal jobbe med og oppfordrer derfor alle til lese litt om datasettet som det står skrevet om her: \n",
        "\n",
        "*   https://archive.ics.uci.edu/ml/datasets/iris\n",
        "*   https://en.wikipedia.org/wiki/Iris_flower_data_set\n",
        "\n"
      ]
    },
    {
      "metadata": {
        "id": "gDdg5lFqjDlV",
        "colab_type": "text"
      },
      "cell_type": "markdown",
      "source": [
        "## Forberedelser"
      ]
    },
    {
      "metadata": {
        "id": "yRQTrKAcTJOu",
        "colab_type": "text"
      },
      "cell_type": "markdown",
      "source": [
        "### Last ned data\n",
        "\n",
        "---\n",
        "\n",
        "For å komme i gang er vi nødt til å tilgjengeliggjøre datasettet. Med enkle kommandoer kan man laste ned dataset som er publisert på nettet. Om du ønsker å bruke et datasett du har lokalt kan du laste opp dette under \"Files\" i margen til venstre. Vær oppmærksom på at dette vil blir borte når du har vært inaktiv en stund og din VM \"resirkuleres\"."
      ]
    },
    {
      "metadata": {
        "id": "vdqUvstpSOHo",
        "colab_type": "code",
        "colab": {}
      },
      "cell_type": "code",
      "source": [
        "!wget -q https://archive.ics.uci.edu/ml/machine-learning-databases/iris/iris.data -O iris.csv"
      ],
      "execution_count": 0,
      "outputs": []
    },
    {
      "metadata": {
        "id": "wTByWzG4TLVY",
        "colab_type": "code",
        "colab": {}
      },
      "cell_type": "code",
      "source": [
        "# Vi kan kommentere som ellers i python. \n",
        "# \"ls\"-kommandoen viser innholdet i mappen vi er i. \n",
        "!ls"
      ],
      "execution_count": 0,
      "outputs": []
    },
    {
      "metadata": {
        "id": "BogHR5DOYF7Z",
        "colab_type": "text"
      },
      "cell_type": "markdown",
      "source": [
        "### Oppsett\n",
        "---\n",
        "Vi ønsker ikke å skrive all koden fra scratch, derfor importerer vi en noen biblioteker som har funksjonaliteten vi ønsker oss.\n",
        "\n",
        "- sklearn = https://scikit-learn.org/\n",
        "- pandas = https://pandas.pydata. org/"
      ]
    },
    {
      "metadata": {
        "id": "EqQUwPamYJZX",
        "colab_type": "code",
        "colab": {}
      },
      "cell_type": "code",
      "source": [
        "# Importerer nødvendige biblioteker\n",
        "from sklearn import model_selection, metrics, svm\n",
        "from pandas import read_csv\n",
        "from pandas.plotting import radviz\n",
        "\n",
        "# I supervised learning er hver input koblet til en fasit, også kalt \"label\".\n",
        "# LabelEncoder brukes for å gjøre fasiten enklere å behandle.\n",
        "from sklearn.preprocessing import LabelEncoder"
      ],
      "execution_count": 0,
      "outputs": []
    },
    {
      "metadata": {
        "id": "9bQLFEneYPyy",
        "colab_type": "text"
      },
      "cell_type": "markdown",
      "source": [
        "### Les inn data\n",
        "---\n",
        "Bruk pandas-funksjonene vi importerte over til å lese inn csv-filen vi har lastet ned.\n"
      ]
    },
    {
      "metadata": {
        "id": "ibafW_bEYP_d",
        "colab_type": "code",
        "colab": {}
      },
      "cell_type": "code",
      "source": [
        "iris = read_csv(\"iris.csv\", header=None)"
      ],
      "execution_count": 0,
      "outputs": []
    },
    {
      "metadata": {
        "id": "MMgmZ3qKjNfA",
        "colab_type": "text"
      },
      "cell_type": "markdown",
      "source": [
        "## Preprossesering"
      ]
    },
    {
      "metadata": {
        "colab_type": "text",
        "id": "TX3zRrd28Tb7"
      },
      "cell_type": "markdown",
      "source": [
        "### Utforsk data\n",
        "---\n",
        "Når man jobber med maskinlæring er det essensielt å ha kunnskap om dataen du jobber med. Under går vi gjennom noen nyttige funksjoner vi får tilgang til ved å bruke Pandas. Disse funksjonene kan si oss noe om hvordan data er formatert og hva slags verdier vi jobber med. Datasett er lastet opp i Pandas som en dataframe, dvs. en datastruktur som ligner en tabell med rader og kolonner."
      ]
    },
    {
      "metadata": {
        "id": "6LPQwxw8ZJOb",
        "colab_type": "code",
        "colab": {}
      },
      "cell_type": "code",
      "source": [
        "# Kolonnenavn i datasett:\n",
        "iris.columns"
      ],
      "execution_count": 0,
      "outputs": []
    },
    {
      "metadata": {
        "id": "Gv9v_UNMe_MD",
        "colab_type": "code",
        "colab": {}
      },
      "cell_type": "code",
      "source": [
        "# Antall rader og kolonner i datasettet:\n",
        "iris.shape"
      ],
      "execution_count": 0,
      "outputs": []
    },
    {
      "metadata": {
        "id": "TC6CxXCmZVZZ",
        "colab_type": "code",
        "colab": {}
      },
      "cell_type": "code",
      "source": [
        "# Top 5 rader i datasettet:\n",
        "iris.head()"
      ],
      "execution_count": 0,
      "outputs": []
    },
    {
      "metadata": {
        "id": "G8CZjnAGc8jl",
        "colab_type": "code",
        "colab": {}
      },
      "cell_type": "code",
      "source": [
        "# Vi kan endre navn på kolonner:\n",
        "iris = iris.rename(index=str, columns={0: \"sepal_length\", 1: \"sepal_width\", 2: \"petal_length\", 3: \"petal_width\", 4: \"class\"})"
      ],
      "execution_count": 0,
      "outputs": []
    },
    {
      "metadata": {
        "id": "50OCM1j6Y-hJ",
        "colab_type": "code",
        "colab": {}
      },
      "cell_type": "code",
      "source": [
        "# Vi kan få statistikk over data i dataframe:\n",
        "iris.describe()"
      ],
      "execution_count": 0,
      "outputs": []
    },
    {
      "metadata": {
        "id": "q18fEc4ZZjsL",
        "colab_type": "code",
        "colab": {}
      },
      "cell_type": "code",
      "source": [
        "# Vi kan gruppere data fra dataframe basert på kolonnenavn og få størrelse på hver gruppe\n",
        "iris.groupby('class').size()\n",
        "# Hvis man har veldig ujevnt datasett bør man nok fikse det"
      ],
      "execution_count": 0,
      "outputs": []
    },
    {
      "metadata": {
        "id": "8a0Tyt4p6REJ",
        "colab_type": "code",
        "colab": {}
      },
      "cell_type": "code",
      "source": [
        "# Vi kan se på hvordan alle datapunktene ser ut i en graf\n",
        "iris.plot()"
      ],
      "execution_count": 0,
      "outputs": []
    },
    {
      "metadata": {
        "id": "dffUSo3H6fpf",
        "colab_type": "code",
        "colab": {}
      },
      "cell_type": "code",
      "source": [
        "# Vi kan lage en graf per klasse\n",
        "iris.groupby('class').plot()"
      ],
      "execution_count": 0,
      "outputs": []
    },
    {
      "metadata": {
        "id": "ZmfFbhMz6vIJ",
        "colab_type": "code",
        "colab": {}
      },
      "cell_type": "code",
      "source": [
        "# Vi kan lage en oversikt over klassefordelingen\n",
        "iris.groupby('class').size().plot(kind='bar')"
      ],
      "execution_count": 0,
      "outputs": []
    },
    {
      "metadata": {
        "id": "Jflqy3Sa_hzE",
        "colab_type": "text"
      },
      "cell_type": "markdown",
      "source": [
        "Noen måter å visualisere data på kan gi oss masse nyttig informasjon. RadViz (https://pandas.pydata.org/pandas-docs/stable/user_guide/visualization.html#radviz) er et godt eksempel på dette.\n",
        "\n",
        "Data scientists bruker RadViz for å undersøke om klasse lett kan skilles. Dvs. finnes det en mulighet til å lære å skille de ulike klassene eller er det for mye støy?"
      ]
    },
    {
      "metadata": {
        "id": "lYwpCuiM-83Z",
        "colab_type": "code",
        "colab": {}
      },
      "cell_type": "code",
      "source": [
        "# Tar inn datasettet og klassen og navnet på kolonnen vi øsnker å undersøke\n",
        "radviz(iris, 'class')"
      ],
      "execution_count": 0,
      "outputs": []
    },
    {
      "metadata": {
        "id": "DxpjIgMcfSRC",
        "colab_type": "text"
      },
      "cell_type": "markdown",
      "source": [
        "### Klargjør data\n",
        "\n",
        "---\n",
        "\n",
        "Ofte vil datene vi får ikke har rett format, eller ha behov for en eller annen forbehandling. I dette tilfellet slipper vi det."
      ]
    },
    {
      "metadata": {
        "id": "-qMIgt1dxYcC",
        "colab_type": "code",
        "colab": {}
      },
      "cell_type": "code",
      "source": [
        "# F.eks.\n",
        "\n",
        "encoder = LabelEncoder()\n",
        "# Tilpasser encoderen til featuren \"farge\"\n",
        "encoder.fit(iris[\"farge\"])\n",
        "# Endrer den faktiske verdien i datasettet. \n",
        "iris[\"farge\"] = encoder.fit_transform(usedcars[\"farge\"])"
      ],
      "execution_count": 0,
      "outputs": []
    },
    {
      "metadata": {
        "id": "D9NGLslOf1s2",
        "colab_type": "text"
      },
      "cell_type": "markdown",
      "source": [
        "### Splitte datasettet\n",
        "\n",
        "---\n",
        "\n",
        "For å kunne trene en modell må vi ha et treningssett (som vi lærer av) og et testsett som vi bruker for å evaluere hvor god modellen vi har fått er.\n",
        "\n",
        "Features er informasjon som vil være tilgjengelig som basis for prediksjoner og class er det som vi vil predikere."
      ]
    },
    {
      "metadata": {
        "id": "2hg1lOmMZ2JC",
        "colab_type": "code",
        "colab": {}
      },
      "cell_type": "code",
      "source": [
        "features = iris[[\"sepal_length\", \"sepal_width\", \"petal_length\", \"petal_width\"]]\n",
        "classes = iris[\"class\"]"
      ],
      "execution_count": 0,
      "outputs": []
    },
    {
      "metadata": {
        "id": "1B-5OrdHgKR0",
        "colab_type": "code",
        "colab": {}
      },
      "cell_type": "code",
      "source": [
        "# \"X\" er bare vanlig betegnelse for features og \"y\" - for classes/targets/mål\n",
        "# model_selection har vi importert tidligere fra sklearn, train_test_split metode deler datasett tilfeldig i test og trening\n",
        "X_train, X_test, y_train, y_test = model_selection.train_test_split(features, classes, test_size=0.33, random_state=1)"
      ],
      "execution_count": 0,
      "outputs": []
    },
    {
      "metadata": {
        "id": "kEMfxxMhgbYn",
        "colab_type": "text"
      },
      "cell_type": "markdown",
      "source": [
        "## Trening og test\n",
        "\n",
        "---\n",
        "\n",
        "Først må vi velge en algoritme - her har vi valgt Support Vector Machine (SVM)"
      ]
    },
    {
      "metadata": {
        "id": "HzcHP7TOgd0N",
        "colab_type": "code",
        "colab": {}
      },
      "cell_type": "code",
      "source": [
        "# Benytter SVM - Support Vector Machine, den har vi også importert tidligere fra sklearn som svm\n",
        "classifier_SVM = svm.SVC()\n",
        "\n",
        "# Trener med en enkel fit-kommando som tar features og classes fra treningssett som parametere\n",
        "classifier_SVM.fit(X_train, y_train)"
      ],
      "execution_count": 0,
      "outputs": []
    },
    {
      "metadata": {
        "id": "SGvYvyR8j1fZ",
        "colab_type": "text"
      },
      "cell_type": "markdown",
      "source": [
        "Når modellen er trent kan vi gjøre prediksjoner (teste)"
      ]
    },
    {
      "metadata": {
        "id": "E9XId8yAgljX",
        "colab_type": "code",
        "colab": {}
      },
      "cell_type": "code",
      "source": [
        "# Predikerer\n",
        "predictions = classifier_SVM.predict(X_test)\n",
        "\n",
        "# Kalkulerer resultat: vi sammenligner resultater som vi har fått med \"predict\" med klasser definert i y_test\n",
        "SVM_report = metrics.classification_report(y_test, predictions, target_names=iris[\"class\"].unique())\n",
        "print(SVM_report)"
      ],
      "execution_count": 0,
      "outputs": []
    },
    {
      "metadata": {
        "id": "dMK03RIKgupQ",
        "colab_type": "code",
        "colab": {}
      },
      "cell_type": "code",
      "source": [
        "# Visualiser prediksjonene\n",
        "# Confusion matrix er en matrise hvor hver rad representerer virkelige klasser og hver kolonne representerer klasser som var predikert\n",
        "# F.eks. kan vi tolke den andre rad i denne matrisen slik at 18 eksempler av klasse 2 var predikert riktig som klasse 2 og 1 var predikert feil som klasse 3 \n",
        "SVM_matrix = metrics.confusion_matrix(y_test, predictions)\n",
        "print(SVM_matrix)"
      ],
      "execution_count": 0,
      "outputs": []
    },
    {
      "metadata": {
        "id": "oYxqwOJKhDMl",
        "colab_type": "text"
      },
      "cell_type": "markdown",
      "source": [
        "## Tren en annen modell"
      ]
    },
    {
      "metadata": {
        "id": "3FPlZY0SU2OL",
        "colab_type": "text"
      },
      "cell_type": "markdown",
      "source": [
        "Nå kan vi gjøre det samme med en annen modell og se på om den vil fungere bedre."
      ]
    },
    {
      "metadata": {
        "id": "iRgNfpNYhIqF",
        "colab_type": "code",
        "colab": {}
      },
      "cell_type": "code",
      "source": [
        "from sklearn.neural_network import MLPClassifier"
      ],
      "execution_count": 0,
      "outputs": []
    },
    {
      "metadata": {
        "id": "fmku8GlnhNmy",
        "colab_type": "code",
        "colab": {}
      },
      "cell_type": "code",
      "source": [
        "# Benytter MLP - Multi-layer Perceptron classifier\n",
        "classifier_MLP = MLPClassifier(hidden_layer_sizes=(200, 100), max_iter=300, random_state=1)\n",
        "# Trener\n",
        "classifier_MLP.fit(X_train, y_train)"
      ],
      "execution_count": 0,
      "outputs": []
    },
    {
      "metadata": {
        "id": "tEEKvd34hQKp",
        "colab_type": "code",
        "colab": {}
      },
      "cell_type": "code",
      "source": [
        "# Predikerer\n",
        "predictions_MLP = classifier_MLP.predict(X_test)\n",
        "# Kalkulerer resultat\n",
        "MLP_report = metrics.classification_report(y_test, predictions_MLP, target_names=iris[\"class\"].unique())\n",
        "print(MLP_report)"
      ],
      "execution_count": 0,
      "outputs": []
    },
    {
      "metadata": {
        "id": "RO7feDUrhVPL",
        "colab_type": "code",
        "colab": {}
      },
      "cell_type": "code",
      "source": [
        "# Visualiser prediksjonene\n",
        "MLP_matrix = metrics.confusion_matrix(y_test, predictions_MLP)\n",
        "print(MLP_matrix)"
      ],
      "execution_count": 0,
      "outputs": []
    }
  ]
}