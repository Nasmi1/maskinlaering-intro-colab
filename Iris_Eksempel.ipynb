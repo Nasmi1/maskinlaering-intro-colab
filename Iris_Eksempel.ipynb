{
  "nbformat": 4,
  "nbformat_minor": 0,
  "metadata": {
    "colab": {
      "name": "Iris - Eksempel.ipynb",
      "version": "0.3.2",
      "provenance": [],
      "toc_visible": true
    },
    "kernelspec": {
      "name": "python3",
      "display_name": "Python 3"
    },
    "accelerator": "GPU"
  },
  "cells": [
    {
      "metadata": {
        "id": "yfpdigEAW2V3",
        "colab_type": "text"
      },
      "cell_type": "markdown",
      "source": [
        "# Google Colaboratory\n",
        "\n",
        "---\n",
        "\n",
        "Google Colaboratory er et gratis verktøy for maskinlæring utviklet av Google som gjør det mulig å jobbe med maskinlæring uten noe form for konfigurasjon. Koden kjøres i på virituell maskin dedikert til din konto. For mer informasjon se: https://research.google.com/colaboratory/faq.html. "
      ]
    },
    {
      "metadata": {
        "id": "Tb50V6dSEdAA",
        "colab_type": "code",
        "colab": {}
      },
      "cell_type": "code",
      "source": [
        ""
      ],
      "execution_count": 0,
      "outputs": []
    },
    {
      "metadata": {
        "id": "K0IGFG-OEdZ6",
        "colab_type": "code",
        "colab": {}
      },
      "cell_type": "code",
      "source": [
        ""
      ],
      "execution_count": 0,
      "outputs": []
    },
    {
      "metadata": {
        "id": "fzZp-1YAEduA",
        "colab_type": "code",
        "colab": {}
      },
      "cell_type": "code",
      "source": [
        ""
      ],
      "execution_count": 0,
      "outputs": []
    },
    {
      "metadata": {
        "id": "YYivKsSaSvmn",
        "colab_type": "text"
      },
      "cell_type": "markdown",
      "source": [
        "# Eksempel - Iris\n",
        "\n",
        "---\n",
        "\n",
        "\n",
        "Iris-datasettet inneholder informasjon om ulike Iris-blomster. Du kan lese om datasettet her: \n",
        "\n",
        "*   https://archive.ics.uci.edu/ml/datasets/iris\n",
        "*   https://en.wikipedia.org/wiki/Iris_flower_data_set\n",
        "\n"
      ]
    },
    {
      "metadata": {
        "id": "gDdg5lFqjDlV",
        "colab_type": "text"
      },
      "cell_type": "markdown",
      "source": [
        "## Forberedelser"
      ]
    },
    {
      "metadata": {
        "id": "yRQTrKAcTJOu",
        "colab_type": "text"
      },
      "cell_type": "markdown",
      "source": [
        "### Last ned data\n",
        "\n",
        "---\n",
        "\n",
        "Med enkle kommandoer kan man laste ned dataset som er publisert på nettet. Om du ønsker å bruke et datasett du har lokalt kan du laste opp dette under \"Files\" i margen til venstre. "
      ]
    },
    {
      "metadata": {
        "id": "vdqUvstpSOHo",
        "colab_type": "code",
        "colab": {}
      },
      "cell_type": "code",
      "source": [
        "!wget -q https://archive.ics.uci.edu/ml/machine-learning-databases/iris/iris.data -O iris.csv"
      ],
      "execution_count": 0,
      "outputs": []
    },
    {
      "metadata": {
        "id": "wTByWzG4TLVY",
        "colab_type": "code",
        "outputId": "66a086ed-14fd-44d2-986d-6db5b5e2dbae",
        "colab": {
          "base_uri": "https://localhost:8080/",
          "height": 34
        }
      },
      "cell_type": "code",
      "source": [
        "# Vi kan kommentere som ellers i python. \n",
        "# \"ls\"-kommandoen viser innholdet i mappen vi er i. \n",
        "!ls"
      ],
      "execution_count": 0,
      "outputs": [
        {
          "output_type": "stream",
          "text": [
            "iris.csv  sample_data\n"
          ],
          "name": "stdout"
        }
      ]
    },
    {
      "metadata": {
        "id": "BogHR5DOYF7Z",
        "colab_type": "text"
      },
      "cell_type": "markdown",
      "source": [
        "### Oppsett"
      ]
    },
    {
      "metadata": {
        "id": "EqQUwPamYJZX",
        "colab_type": "code",
        "colab": {}
      },
      "cell_type": "code",
      "source": [
        "# importerer nødvendige biblioteker\n",
        "from sklearn import model_selection, metrics, svm\n",
        "from pandas import read_csv"
      ],
      "execution_count": 0,
      "outputs": []
    },
    {
      "metadata": {
        "id": "9bQLFEneYPyy",
        "colab_type": "text"
      },
      "cell_type": "markdown",
      "source": [
        "### Les inn data"
      ]
    },
    {
      "metadata": {
        "id": "ibafW_bEYP_d",
        "colab_type": "code",
        "colab": {}
      },
      "cell_type": "code",
      "source": [
        "iris = read_csv(\"iris.csv\", header=None)"
      ],
      "execution_count": 0,
      "outputs": []
    },
    {
      "metadata": {
        "id": "MMgmZ3qKjNfA",
        "colab_type": "text"
      },
      "cell_type": "markdown",
      "source": [
        "## Preprossesering"
      ]
    },
    {
      "metadata": {
        "id": "DxpjIgMcfSRC",
        "colab_type": "text"
      },
      "cell_type": "markdown",
      "source": [
        "### Klargjør data\n",
        "\n",
        "---\n",
        "\n",
        "En viktig del av maskinlæring er kunnskap om dataen du jobber med. Under går vi gjennom noen nyttige funksjoner vi får ved å bruke Pandas. \n",
        "Datasett er lastet opp i Pandas som en dataframe, dvs. en datastruktur som ligner en tabell med rader og kolonner."
      ]
    },
    {
      "metadata": {
        "id": "6LPQwxw8ZJOb",
        "colab_type": "code",
        "outputId": "7ff548fe-3f0c-4ff5-fe9c-e20d9f2d1165",
        "colab": {
          "base_uri": "https://localhost:8080/",
          "height": 34
        }
      },
      "cell_type": "code",
      "source": [
        "# kolonnenavn i datasett:\n",
        "iris.columns"
      ],
      "execution_count": 0,
      "outputs": [
        {
          "output_type": "execute_result",
          "data": {
            "text/plain": [
              "Int64Index([0, 1, 2, 3, 4], dtype='int64')"
            ]
          },
          "metadata": {
            "tags": []
          },
          "execution_count": 5
        }
      ]
    },
    {
      "metadata": {
        "id": "Gv9v_UNMe_MD",
        "colab_type": "code",
        "outputId": "e3e09d59-a1a6-4f8c-8901-79c7e13c9b9d",
        "colab": {
          "base_uri": "https://localhost:8080/",
          "height": 34
        }
      },
      "cell_type": "code",
      "source": [
        "# antall rader og kolonner i datasettet:\n",
        "iris.shape"
      ],
      "execution_count": 0,
      "outputs": [
        {
          "output_type": "execute_result",
          "data": {
            "text/plain": [
              "(150, 5)"
            ]
          },
          "metadata": {
            "tags": []
          },
          "execution_count": 6
        }
      ]
    },
    {
      "metadata": {
        "id": "TC6CxXCmZVZZ",
        "colab_type": "code",
        "outputId": "dd5a6699-1b7e-4368-b949-f3aef82981f3",
        "colab": {
          "base_uri": "https://localhost:8080/",
          "height": 204
        }
      },
      "cell_type": "code",
      "source": [
        "# top 5 rader i datasettet:\n",
        "iris.head()"
      ],
      "execution_count": 0,
      "outputs": [
        {
          "output_type": "execute_result",
          "data": {
            "text/html": [
              "<div>\n",
              "<style scoped>\n",
              "    .dataframe tbody tr th:only-of-type {\n",
              "        vertical-align: middle;\n",
              "    }\n",
              "\n",
              "    .dataframe tbody tr th {\n",
              "        vertical-align: top;\n",
              "    }\n",
              "\n",
              "    .dataframe thead th {\n",
              "        text-align: right;\n",
              "    }\n",
              "</style>\n",
              "<table border=\"1\" class=\"dataframe\">\n",
              "  <thead>\n",
              "    <tr style=\"text-align: right;\">\n",
              "      <th></th>\n",
              "      <th>0</th>\n",
              "      <th>1</th>\n",
              "      <th>2</th>\n",
              "      <th>3</th>\n",
              "      <th>4</th>\n",
              "    </tr>\n",
              "  </thead>\n",
              "  <tbody>\n",
              "    <tr>\n",
              "      <th>0</th>\n",
              "      <td>5.1</td>\n",
              "      <td>3.5</td>\n",
              "      <td>1.4</td>\n",
              "      <td>0.2</td>\n",
              "      <td>Iris-setosa</td>\n",
              "    </tr>\n",
              "    <tr>\n",
              "      <th>1</th>\n",
              "      <td>4.9</td>\n",
              "      <td>3.0</td>\n",
              "      <td>1.4</td>\n",
              "      <td>0.2</td>\n",
              "      <td>Iris-setosa</td>\n",
              "    </tr>\n",
              "    <tr>\n",
              "      <th>2</th>\n",
              "      <td>4.7</td>\n",
              "      <td>3.2</td>\n",
              "      <td>1.3</td>\n",
              "      <td>0.2</td>\n",
              "      <td>Iris-setosa</td>\n",
              "    </tr>\n",
              "    <tr>\n",
              "      <th>3</th>\n",
              "      <td>4.6</td>\n",
              "      <td>3.1</td>\n",
              "      <td>1.5</td>\n",
              "      <td>0.2</td>\n",
              "      <td>Iris-setosa</td>\n",
              "    </tr>\n",
              "    <tr>\n",
              "      <th>4</th>\n",
              "      <td>5.0</td>\n",
              "      <td>3.6</td>\n",
              "      <td>1.4</td>\n",
              "      <td>0.2</td>\n",
              "      <td>Iris-setosa</td>\n",
              "    </tr>\n",
              "  </tbody>\n",
              "</table>\n",
              "</div>"
            ],
            "text/plain": [
              "     0    1    2    3            4\n",
              "0  5.1  3.5  1.4  0.2  Iris-setosa\n",
              "1  4.9  3.0  1.4  0.2  Iris-setosa\n",
              "2  4.7  3.2  1.3  0.2  Iris-setosa\n",
              "3  4.6  3.1  1.5  0.2  Iris-setosa\n",
              "4  5.0  3.6  1.4  0.2  Iris-setosa"
            ]
          },
          "metadata": {
            "tags": []
          },
          "execution_count": 7
        }
      ]
    },
    {
      "metadata": {
        "id": "G8CZjnAGc8jl",
        "colab_type": "code",
        "colab": {}
      },
      "cell_type": "code",
      "source": [
        "# vi kan endre navn på kolonner:\n",
        "iris = iris.rename(index=str, columns={0: \"sepal_length\", 1: \"sepal_width\", 2: \"petal_length\", 3: \"petal_width\", 4: \"class\"})"
      ],
      "execution_count": 0,
      "outputs": []
    },
    {
      "metadata": {
        "id": "50OCM1j6Y-hJ",
        "colab_type": "code",
        "outputId": "4d3fb361-67fb-407c-fc59-6054eae76f37",
        "colab": {
          "base_uri": "https://localhost:8080/",
          "height": 297
        }
      },
      "cell_type": "code",
      "source": [
        "# vi kan få statistikk over data i dataframe:\n",
        "iris.describe()"
      ],
      "execution_count": 0,
      "outputs": [
        {
          "output_type": "execute_result",
          "data": {
            "text/html": [
              "<div>\n",
              "<style scoped>\n",
              "    .dataframe tbody tr th:only-of-type {\n",
              "        vertical-align: middle;\n",
              "    }\n",
              "\n",
              "    .dataframe tbody tr th {\n",
              "        vertical-align: top;\n",
              "    }\n",
              "\n",
              "    .dataframe thead th {\n",
              "        text-align: right;\n",
              "    }\n",
              "</style>\n",
              "<table border=\"1\" class=\"dataframe\">\n",
              "  <thead>\n",
              "    <tr style=\"text-align: right;\">\n",
              "      <th></th>\n",
              "      <th>sepal_length</th>\n",
              "      <th>sepal_width</th>\n",
              "      <th>petal_length</th>\n",
              "      <th>petal_width</th>\n",
              "    </tr>\n",
              "  </thead>\n",
              "  <tbody>\n",
              "    <tr>\n",
              "      <th>count</th>\n",
              "      <td>150.000000</td>\n",
              "      <td>150.000000</td>\n",
              "      <td>150.000000</td>\n",
              "      <td>150.000000</td>\n",
              "    </tr>\n",
              "    <tr>\n",
              "      <th>mean</th>\n",
              "      <td>5.843333</td>\n",
              "      <td>3.054000</td>\n",
              "      <td>3.758667</td>\n",
              "      <td>1.198667</td>\n",
              "    </tr>\n",
              "    <tr>\n",
              "      <th>std</th>\n",
              "      <td>0.828066</td>\n",
              "      <td>0.433594</td>\n",
              "      <td>1.764420</td>\n",
              "      <td>0.763161</td>\n",
              "    </tr>\n",
              "    <tr>\n",
              "      <th>min</th>\n",
              "      <td>4.300000</td>\n",
              "      <td>2.000000</td>\n",
              "      <td>1.000000</td>\n",
              "      <td>0.100000</td>\n",
              "    </tr>\n",
              "    <tr>\n",
              "      <th>25%</th>\n",
              "      <td>5.100000</td>\n",
              "      <td>2.800000</td>\n",
              "      <td>1.600000</td>\n",
              "      <td>0.300000</td>\n",
              "    </tr>\n",
              "    <tr>\n",
              "      <th>50%</th>\n",
              "      <td>5.800000</td>\n",
              "      <td>3.000000</td>\n",
              "      <td>4.350000</td>\n",
              "      <td>1.300000</td>\n",
              "    </tr>\n",
              "    <tr>\n",
              "      <th>75%</th>\n",
              "      <td>6.400000</td>\n",
              "      <td>3.300000</td>\n",
              "      <td>5.100000</td>\n",
              "      <td>1.800000</td>\n",
              "    </tr>\n",
              "    <tr>\n",
              "      <th>max</th>\n",
              "      <td>7.900000</td>\n",
              "      <td>4.400000</td>\n",
              "      <td>6.900000</td>\n",
              "      <td>2.500000</td>\n",
              "    </tr>\n",
              "  </tbody>\n",
              "</table>\n",
              "</div>"
            ],
            "text/plain": [
              "       sepal_length  sepal_width  petal_length  petal_width\n",
              "count    150.000000   150.000000    150.000000   150.000000\n",
              "mean       5.843333     3.054000      3.758667     1.198667\n",
              "std        0.828066     0.433594      1.764420     0.763161\n",
              "min        4.300000     2.000000      1.000000     0.100000\n",
              "25%        5.100000     2.800000      1.600000     0.300000\n",
              "50%        5.800000     3.000000      4.350000     1.300000\n",
              "75%        6.400000     3.300000      5.100000     1.800000\n",
              "max        7.900000     4.400000      6.900000     2.500000"
            ]
          },
          "metadata": {
            "tags": []
          },
          "execution_count": 9
        }
      ]
    },
    {
      "metadata": {
        "id": "q18fEc4ZZjsL",
        "colab_type": "code",
        "outputId": "122fc1b9-40e3-4b2b-be3f-3f39ae64f8ca",
        "colab": {
          "base_uri": "https://localhost:8080/",
          "height": 102
        }
      },
      "cell_type": "code",
      "source": [
        "# vi kan gruppere data fra dataframe basert på kolonnenavn og få størrelse på hver gruppe\n",
        "iris.groupby('class').size()"
      ],
      "execution_count": 0,
      "outputs": [
        {
          "output_type": "execute_result",
          "data": {
            "text/plain": [
              "class\n",
              "Iris-setosa        50\n",
              "Iris-versicolor    50\n",
              "Iris-virginica     50\n",
              "dtype: int64"
            ]
          },
          "metadata": {
            "tags": []
          },
          "execution_count": 11
        }
      ]
    },
    {
      "metadata": {
        "id": "D9NGLslOf1s2",
        "colab_type": "text"
      },
      "cell_type": "markdown",
      "source": [
        "### Splitte datasettet\n",
        "\n",
        "---\n",
        "\n",
        "For å kunne trene en modell må vi ha et treningssett (som vi lærer av) og et testsett som vi bruker for å evaluere hvor god modellen vi har fått er.\n",
        "\n",
        "Features er informasjon som vil være tilgjengelig som basis for prediksjoner og class er det som vi vil predikere."
      ]
    },
    {
      "metadata": {
        "id": "2hg1lOmMZ2JC",
        "colab_type": "code",
        "colab": {}
      },
      "cell_type": "code",
      "source": [
        "features = iris[[\"sepal_length\", \"sepal_width\", \"petal_length\", \"petal_width\"]]\n",
        "classes = iris[\"class\"]"
      ],
      "execution_count": 0,
      "outputs": []
    },
    {
      "metadata": {
        "id": "1B-5OrdHgKR0",
        "colab_type": "code",
        "colab": {}
      },
      "cell_type": "code",
      "source": [
        "# \"X\" er bare vanlig betegnelse for features og \"y\" - for classes\n",
        "# model_selection har vi importert tidligere fra sklearn, train_test_split metode deler datasett tilfeldig i test og trening\n",
        "X_train, X_test, y_train, y_test = model_selection.train_test_split(features, classes, test_size=0.33, random_state=1)"
      ],
      "execution_count": 0,
      "outputs": []
    },
    {
      "metadata": {
        "id": "kEMfxxMhgbYn",
        "colab_type": "text"
      },
      "cell_type": "markdown",
      "source": [
        "## Trening og test\n",
        "\n",
        "---\n",
        "\n",
        "Først må vi velge en algoritme - her har vi valgt Support Vector Machine (SVM)"
      ]
    },
    {
      "metadata": {
        "id": "HzcHP7TOgd0N",
        "colab_type": "code",
        "outputId": "0838ffce-f5dd-4ff1-b0d5-d2de3b4fa8d8",
        "colab": {
          "base_uri": "https://localhost:8080/",
          "height": 85
        }
      },
      "cell_type": "code",
      "source": [
        "# Benytter SVM - Support Vector Machine, den har vi også importert tidligere fra sklearn som svm\n",
        "classifier_SVM = svm.SVC(gamma=0.001, C=100.)\n",
        "\n",
        "# Trener med en enkel fit-kommando som tar features og classes fra treningssett som parametere\n",
        "classifier_SVM.fit(X_train, y_train)"
      ],
      "execution_count": 0,
      "outputs": [
        {
          "output_type": "execute_result",
          "data": {
            "text/plain": [
              "SVC(C=100.0, cache_size=200, class_weight=None, coef0=0.0,\n",
              "  decision_function_shape='ovr', degree=3, gamma=0.001, kernel='rbf',\n",
              "  max_iter=-1, probability=False, random_state=None, shrinking=True,\n",
              "  tol=0.001, verbose=False)"
            ]
          },
          "metadata": {
            "tags": []
          },
          "execution_count": 14
        }
      ]
    },
    {
      "metadata": {
        "id": "SGvYvyR8j1fZ",
        "colab_type": "text"
      },
      "cell_type": "markdown",
      "source": [
        "Når modellen er trent kan vi gjøre prediksjoner (teste)"
      ]
    },
    {
      "metadata": {
        "id": "E9XId8yAgljX",
        "colab_type": "code",
        "outputId": "e208f726-d756-4c09-d0ca-23c9e52cd221",
        "colab": {
          "base_uri": "https://localhost:8080/",
          "height": 187
        }
      },
      "cell_type": "code",
      "source": [
        "# Predikerer\n",
        "predictions = classifier_SVM.predict(X_test)\n",
        "\n",
        "# Kalkulerer resultat: vi sammenligner resultater som vi har fått med \"predict\" med klasser definert i y_test\n",
        "SVM_report = metrics.classification_report(y_test, predictions, target_names=iris[\"class\"].unique())\n",
        "print(SVM_report)"
      ],
      "execution_count": 0,
      "outputs": [
        {
          "output_type": "stream",
          "text": [
            "                 precision    recall  f1-score   support\n",
            "\n",
            "    Iris-setosa       1.00      1.00      1.00        17\n",
            "Iris-versicolor       1.00      0.95      0.97        19\n",
            " Iris-virginica       0.93      1.00      0.97        14\n",
            "\n",
            "      micro avg       0.98      0.98      0.98        50\n",
            "      macro avg       0.98      0.98      0.98        50\n",
            "   weighted avg       0.98      0.98      0.98        50\n",
            "\n"
          ],
          "name": "stdout"
        }
      ]
    },
    {
      "metadata": {
        "id": "dMK03RIKgupQ",
        "colab_type": "code",
        "outputId": "20c7712d-be6b-434e-fc3b-341f05a84595",
        "colab": {
          "base_uri": "https://localhost:8080/",
          "height": 68
        }
      },
      "cell_type": "code",
      "source": [
        "# Visualiser prediksjonene\n",
        "# Confusion matrix er en matrise hvor hver rad representerer virkelige klasser og hver kolonne representerer klasser som var predikert\n",
        "# F.eks. kan vi tolke den andre rad i denne matrisen slik at 18 eksempler av klasse 2 var predikert riktig som klasse 2 og 1 var predikert feil som klasse 3 \n",
        "SVM_matrix = metrics.confusion_matrix(y_test, predictions)\n",
        "print(SVM_matrix)"
      ],
      "execution_count": 0,
      "outputs": [
        {
          "output_type": "stream",
          "text": [
            "[[17  0  0]\n",
            " [ 0 18  1]\n",
            " [ 0  0 14]]\n"
          ],
          "name": "stdout"
        }
      ]
    },
    {
      "metadata": {
        "id": "oYxqwOJKhDMl",
        "colab_type": "text"
      },
      "cell_type": "markdown",
      "source": [
        "## Tren en annen modell"
      ]
    },
    {
      "metadata": {
        "id": "3FPlZY0SU2OL",
        "colab_type": "text"
      },
      "cell_type": "markdown",
      "source": [
        "Nå kan vi gjøre det samme med en annen modell og se på om den vil fungere bedre."
      ]
    },
    {
      "metadata": {
        "id": "iRgNfpNYhIqF",
        "colab_type": "code",
        "colab": {}
      },
      "cell_type": "code",
      "source": [
        "from sklearn.neural_network import MLPClassifier"
      ],
      "execution_count": 0,
      "outputs": []
    },
    {
      "metadata": {
        "id": "fmku8GlnhNmy",
        "colab_type": "code",
        "outputId": "a468e91f-3faa-4a46-a825-771248ad1ce2",
        "colab": {
          "base_uri": "https://localhost:8080/",
          "height": 170
        }
      },
      "cell_type": "code",
      "source": [
        "# Benytter MLP - Multi-layer Perceptron classifier\n",
        "classifier_MLP = MLPClassifier(hidden_layer_sizes=(200, 100), max_iter=300, random_state=1)\n",
        "# Trener\n",
        "classifier_MLP.fit(X_train, y_train)"
      ],
      "execution_count": 0,
      "outputs": [
        {
          "output_type": "stream",
          "text": [
            "/usr/local/lib/python3.6/dist-packages/sklearn/neural_network/multilayer_perceptron.py:562: ConvergenceWarning: Stochastic Optimizer: Maximum iterations (300) reached and the optimization hasn't converged yet.\n",
            "  % self.max_iter, ConvergenceWarning)\n"
          ],
          "name": "stderr"
        },
        {
          "output_type": "execute_result",
          "data": {
            "text/plain": [
              "MLPClassifier(activation='relu', alpha=0.0001, batch_size='auto', beta_1=0.9,\n",
              "       beta_2=0.999, early_stopping=False, epsilon=1e-08,\n",
              "       hidden_layer_sizes=(200, 100), learning_rate='constant',\n",
              "       learning_rate_init=0.001, max_iter=300, momentum=0.9,\n",
              "       n_iter_no_change=10, nesterovs_momentum=True, power_t=0.5,\n",
              "       random_state=1, shuffle=True, solver='adam', tol=0.0001,\n",
              "       validation_fraction=0.1, verbose=False, warm_start=False)"
            ]
          },
          "metadata": {
            "tags": []
          },
          "execution_count": 18
        }
      ]
    },
    {
      "metadata": {
        "id": "tEEKvd34hQKp",
        "colab_type": "code",
        "outputId": "d52c2ca6-9f92-4ea2-ec30-4adb6999d87e",
        "colab": {
          "base_uri": "https://localhost:8080/",
          "height": 187
        }
      },
      "cell_type": "code",
      "source": [
        "# Predikerer\n",
        "predictions_MLP = classifier_MLP.predict(X_test)\n",
        "# Kalkulerer resultat\n",
        "MLP_report = metrics.classification_report(y_test, predictions_MLP, target_names=iris[\"class\"].unique())\n",
        "print(MLP_report)"
      ],
      "execution_count": 0,
      "outputs": [
        {
          "output_type": "stream",
          "text": [
            "                 precision    recall  f1-score   support\n",
            "\n",
            "    Iris-setosa       1.00      1.00      1.00        17\n",
            "Iris-versicolor       1.00      1.00      1.00        19\n",
            " Iris-virginica       1.00      1.00      1.00        14\n",
            "\n",
            "      micro avg       1.00      1.00      1.00        50\n",
            "      macro avg       1.00      1.00      1.00        50\n",
            "   weighted avg       1.00      1.00      1.00        50\n",
            "\n"
          ],
          "name": "stdout"
        }
      ]
    },
    {
      "metadata": {
        "id": "RO7feDUrhVPL",
        "colab_type": "code",
        "outputId": "d48b837f-329e-4169-f494-1ad8ddc6ad01",
        "colab": {
          "base_uri": "https://localhost:8080/",
          "height": 68
        }
      },
      "cell_type": "code",
      "source": [
        "# Visualiser prediksjonene\n",
        "MLP_matrix = metrics.confusion_matrix(y_test, predictions_MLP)\n",
        "print(MLP_matrix)"
      ],
      "execution_count": 0,
      "outputs": [
        {
          "output_type": "stream",
          "text": [
            "[[17  0  0]\n",
            " [ 0 19  0]\n",
            " [ 0  0 14]]\n"
          ],
          "name": "stdout"
        }
      ]
    }
  ]
}