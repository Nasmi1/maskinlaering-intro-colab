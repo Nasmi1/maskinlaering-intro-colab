{
  "nbformat": 4,
  "nbformat_minor": 0,
  "metadata": {
    "colab": {
      "name": "Games - fasit.ipynb",
      "version": "0.3.2",
      "provenance": [],
      "collapsed_sections": [],
      "toc_visible": true
    },
    "kernelspec": {
      "name": "python3",
      "display_name": "Python 3"
    }
  },
  "cells": [
    {
      "metadata": {
        "id": "FbDwLdi73UCK",
        "colab_type": "text"
      },
      "cell_type": "markdown",
      "source": [
        "# Oppgaver med datasettet Games\n",
        "Datasettet games inneholder data om 80000 brettspill. Dette er data som navn på spillet, hvilken rating det har fått av brukerene, spilletid, etc. Disse oppgavene bygger på en bloggpost, og du kan lese denne posten og mer om datasettet [her](https://www.dataquest.io/blog/machine-learning-python/). Merk at fasit for oppgaven også finnes på denne lenken (i tillegg til i git)."
      ]
    },
    {
      "metadata": {
        "id": "kEJBoK0B42Bm",
        "colab_type": "text"
      },
      "cell_type": "markdown",
      "source": [
        "## Forberedelser"
      ]
    },
    {
      "metadata": {
        "id": "cBrtUfh545BK",
        "colab_type": "text"
      },
      "cell_type": "markdown",
      "source": [
        "### Last ned data\n",
        "Vi starter med å laste ned data. Datasettet finnes på stien https://github.com/ThaWeatherman/scrapers/raw/master/boardgamegeek/games.csv og skal lagres i filen games.csv.\n",
        "\n",
        "Filen kan finnes under files i menyen til venstre."
      ]
    },
    {
      "metadata": {
        "id": "EShx_3ec5ShD",
        "colab_type": "code",
        "colab": {}
      },
      "cell_type": "code",
      "source": [
        "!wget -q https://github.com/ThaWeatherman/scrapers/raw/master/boardgamegeek/games.csv -O games.csv"
      ],
      "execution_count": 0,
      "outputs": []
    },
    {
      "metadata": {
        "id": "Q-3j85gY0Q5U",
        "colab_type": "text"
      },
      "cell_type": "markdown",
      "source": [
        "### Importer biblioteker\n",
        "Vi må nå legge til Pyton-bibliotekene som vi trenger."
      ]
    },
    {
      "metadata": {
        "id": "y10Z5HdE04Nr",
        "colab_type": "code",
        "colab": {}
      },
      "cell_type": "code",
      "source": [
        "# For prosessering av data\n",
        "from sklearn.decomposition import PCA\n",
        "# Maskinlæringsalgoritmen som vi bruker\n",
        "from sklearn.cluster import KMeans\n",
        "# For å lage diagrammer bruker vi pyplot.\n",
        "import matplotlib.pyplot as plt\n",
        "# Pandas har bibliotek for å lese csv-filer\n",
        "from pandas import read_csv\n",
        "# For å kunne dele datasettet i to ulike sett, ett for trening og ett for test\n",
        "from sklearn.model_selection import train_test_split\n",
        "# For å kunne bruke lineær regresjon\n",
        "from sklearn.linear_model import LinearRegression\n",
        "# For å kunne finne ut hvor bra modellen vår gjør det\n",
        "from sklearn.metrics import mean_squared_error"
      ],
      "execution_count": 0,
      "outputs": []
    },
    {
      "metadata": {
        "id": "4oSfQCUh2YGW",
        "colab_type": "text"
      },
      "cell_type": "markdown",
      "source": [
        "## Datasettet\n",
        "Videre skal vi ta en kikk på datasettet.\n",
        "\n",
        "### Innlesing\n",
        "Vi starter med å lese inn datasettet."
      ]
    },
    {
      "metadata": {
        "id": "7X_suo8l3AFk",
        "colab_type": "code",
        "colab": {}
      },
      "cell_type": "code",
      "source": [
        "games = read_csv(\"games.csv\")"
      ],
      "execution_count": 0,
      "outputs": []
    },
    {
      "metadata": {
        "id": "iRiYFf8a3OLk",
        "colab_type": "text"
      },
      "cell_type": "markdown",
      "source": [
        "### Undersøkelse og preprosessering\n",
        "Videre kan vi se hvilke data vi har. Hvilke kolonner har vi?"
      ]
    },
    {
      "metadata": {
        "id": "N8kWnqB33fvl",
        "colab_type": "code",
        "colab": {}
      },
      "cell_type": "code",
      "source": [
        "print(games.columns)"
      ],
      "execution_count": 0,
      "outputs": []
    },
    {
      "metadata": {
        "id": "nlzjfyqd3pAC",
        "colab_type": "text"
      },
      "cell_type": "markdown",
      "source": [
        "Deretter må vi sjekke hvor mye data vi har. Det kan vi gjøre ved se på størrelsen til matrisen."
      ]
    },
    {
      "metadata": {
        "id": "77EPb9LW31Kj",
        "colab_type": "code",
        "colab": {}
      },
      "cell_type": "code",
      "source": [
        "print(games.shape)"
      ],
      "execution_count": 0,
      "outputs": []
    },
    {
      "metadata": {
        "id": "MK2lVju38zF8",
        "colab_type": "text"
      },
      "cell_type": "markdown",
      "source": [
        "Dette betyr at det finnes totalt 81312 spill i dagagrunnlaget, der det finnes 20 datapunkter om hvert spill.\n",
        "\n",
        "Vi kan også undersøke hva som ligger i matrisen, ved å se på et lite utvalg av dataene."
      ]
    },
    {
      "metadata": {
        "id": "SVIfLi-D87EZ",
        "colab_type": "code",
        "colab": {}
      },
      "cell_type": "code",
      "source": [
        "print(games.head())"
      ],
      "execution_count": 0,
      "outputs": []
    },
    {
      "metadata": {
        "id": "HNqV0TP85JNw",
        "colab_type": "text"
      },
      "cell_type": "markdown",
      "source": [
        "Nå kan det være interessant å se litt statistikk. Hvordan er de ulike ratingene. Vi kan lage et histogram over 'average_rating' og vise dette."
      ]
    },
    {
      "metadata": {
        "id": "1YrmAlyr5aug",
        "colab_type": "code",
        "colab": {}
      },
      "cell_type": "code",
      "source": [
        "plt.hist(games['average_rating'])\n",
        "plt.show"
      ],
      "execution_count": 0,
      "outputs": []
    },
    {
      "metadata": {
        "id": "giaf5-996Jwf",
        "colab_type": "text"
      },
      "cell_type": "markdown",
      "source": [
        "Det viser seg at det er en del spill som har rating 0. Disse spillene har ikke blitt bedømt av noen, og kan derfor fjernes. Vi vil derfor sette matrisen games til å være lik seg selv, men der antall brukere som har ratet spillet er større enn 0. Fyll inn kode for dette under."
      ]
    },
    {
      "metadata": {
        "id": "nR-7xSjr6sEa",
        "colab_type": "code",
        "colab": {}
      },
      "cell_type": "code",
      "source": [
        "games = games[games['users_rated'] > 0]"
      ],
      "execution_count": 0,
      "outputs": []
    },
    {
      "metadata": {
        "id": "QkdEoQHb64mF",
        "colab_type": "text"
      },
      "cell_type": "markdown",
      "source": [
        "Hvor mange rader står vi igjen med da?"
      ]
    },
    {
      "metadata": {
        "id": "_CDXWprb6_TQ",
        "colab_type": "code",
        "outputId": "2ad0a81d-f56c-49bd-c0ef-19afa76948c4",
        "colab": {
          "base_uri": "https://localhost:8080/",
          "height": 34
        }
      },
      "cell_type": "code",
      "source": [
        "print(games.shape)"
      ],
      "execution_count": 0,
      "outputs": [
        {
          "output_type": "stream",
          "text": [
            "(56932, 20)\n"
          ],
          "name": "stdout"
        }
      ]
    },
    {
      "metadata": {
        "id": "TBBR5CQh7GJo",
        "colab_type": "text"
      },
      "cell_type": "markdown",
      "source": [
        "Videre kan vi fjerne de radene der det mangler verdier."
      ]
    },
    {
      "metadata": {
        "id": "hkp9E_hS7U5A",
        "colab_type": "code",
        "colab": {}
      },
      "cell_type": "code",
      "source": [
        "games = games.dropna(axis = 0)"
      ],
      "execution_count": 0,
      "outputs": []
    },
    {
      "metadata": {
        "id": "Yp-sjXrZ7fhF",
        "colab_type": "text"
      },
      "cell_type": "markdown",
      "source": [
        "Hvor mange rader gjenstår nå?"
      ]
    },
    {
      "metadata": {
        "id": "wceyu5yd7lFh",
        "colab_type": "code",
        "outputId": "05f8233a-3c52-469d-f622-a208549f950a",
        "colab": {
          "base_uri": "https://localhost:8080/",
          "height": 34
        }
      },
      "cell_type": "code",
      "source": [
        "print(games.shape)"
      ],
      "execution_count": 0,
      "outputs": [
        {
          "output_type": "stream",
          "text": [
            "(56894, 20)\n"
          ],
          "name": "stdout"
        }
      ]
    },
    {
      "metadata": {
        "id": "hPNYn5Kl8FbV",
        "colab_type": "text"
      },
      "cell_type": "markdown",
      "source": [
        "## Læring\n",
        "Vi skal nå se om vi kan lære noe av datasettet. Her skal vi prøve oss på klustering. Det går ut på å plassere data som ligner på hverandre i klynger, slik at det er liten forskjell på spill innenfor samme klynge.\n",
        "\n",
        "###KMeans modell\n",
        "Vi lager en modell med funksjonene KMeans. Her kan vi bruke 5 klynger og setter random_state til 1. Grunne til dette er at det skal være mulig å reprodusere resultatet senere."
      ]
    },
    {
      "metadata": {
        "id": "JxlEili19yHL",
        "colab_type": "code",
        "colab": {}
      },
      "cell_type": "code",
      "source": [
        "kmeans_model = KMeans(n_clusters=5, random_state=1)"
      ],
      "execution_count": 0,
      "outputs": []
    },
    {
      "metadata": {
        "id": "uPiFgfRb-D3Q",
        "colab_type": "text"
      },
      "cell_type": "markdown",
      "source": [
        "Klustering fungerer best på kolonner med tall. Derfor henter vi ut alle kolonnene som er numeriske. Kanskje metoden \\_get_numeric_data() kan brukes?"
      ]
    },
    {
      "metadata": {
        "id": "XNuKAiu3-M_Q",
        "colab_type": "code",
        "colab": {}
      },
      "cell_type": "code",
      "source": [
        "good_columns = games._get_numeric_data()"
      ],
      "execution_count": 0,
      "outputs": []
    },
    {
      "metadata": {
        "id": "wmCFKWUc-W0K",
        "colab_type": "text"
      },
      "cell_type": "markdown",
      "source": [
        "Deretter trener vi opp algoritmen. Det kan gjøres med metoden fit på modellen. Husk at du kun skal bruke kolonnene med tall fra over."
      ]
    },
    {
      "metadata": {
        "id": "fMx9tocW-dCt",
        "colab_type": "code",
        "colab": {}
      },
      "cell_type": "code",
      "source": [
        "kmeans_model.fit(good_columns)"
      ],
      "execution_count": 0,
      "outputs": []
    },
    {
      "metadata": {
        "id": "raemcq6a-mJo",
        "colab_type": "text"
      },
      "cell_type": "markdown",
      "source": [
        "Resultatet av klustering blir plassert i etikketer. Disse kan vi hente ut fra modellen, og representere de ulike guppene algoritmen har funnet."
      ]
    },
    {
      "metadata": {
        "id": "eBnSGTv0-4p4",
        "colab_type": "code",
        "colab": {}
      },
      "cell_type": "code",
      "source": [
        "labels = kmeans_model.labels_"
      ],
      "execution_count": 0,
      "outputs": []
    },
    {
      "metadata": {
        "id": "uuuBlWZv--QU",
        "colab_type": "text"
      },
      "cell_type": "markdown",
      "source": [
        "Siden vi har så mange kolonner, er det vanskelig å visualisere dataene. For å kunne gjøre dette om til noe vi klarer å visulaisere, må vi redusere dataene til færre dimmensjoner. PCA står for prinicipal componenet analysis, og blir brukt for å redusere dimensjoner uten at man mister for mye av sammenhengene i gruppene. Vi reduserer til 2 dimmensjoner, slik at det er mulig å lage et plot av gruppene."
      ]
    },
    {
      "metadata": {
        "id": "ir0nlr7C_Fuz",
        "colab_type": "code",
        "colab": {}
      },
      "cell_type": "code",
      "source": [
        "pca_2 = PCA(2)\n",
        "plot_columns = pca_2.fit_transform(good_columns)"
      ],
      "execution_count": 0,
      "outputs": []
    },
    {
      "metadata": {
        "id": "F5mM9CyG_pEh",
        "colab_type": "text"
      },
      "cell_type": "markdown",
      "source": [
        "Til slutt lager vi et diagram med de ulike klyngene."
      ]
    },
    {
      "metadata": {
        "id": "VkRmzqjJ_uad",
        "colab_type": "code",
        "colab": {}
      },
      "cell_type": "code",
      "source": [
        "plt.scatter(x=plot_columns[:, 0], y = plot_columns[:, 1], c=labels)\n",
        "plt.show()"
      ],
      "execution_count": 0,
      "outputs": []
    },
    {
      "metadata": {
        "id": "BRZq_jl8RGvT",
        "colab_type": "text"
      },
      "cell_type": "markdown",
      "source": [
        "## Forutsi rating\n",
        "Vi vil gjerne kunne forutsi hva som blir 'average_rating' for et spill\n",
        "\n",
        "### Finne korrelasjoner\n",
        "Korrelasjoner sier noe om hvilken sammenheng data har. Dersom to ulike datatyper korrelerer godt sammen, kan man bruke den ene datatypen til å forutsi den neste.\n",
        "\n",
        "Siden vi skal foruts 'average_rating', kan vi finne ut hvilke typer data som korrelerer med dette."
      ]
    },
    {
      "metadata": {
        "id": "NUSWkhhOR_QQ",
        "colab_type": "code",
        "colab": {}
      },
      "cell_type": "code",
      "source": [
        "games.corr()['average_rating']"
      ],
      "execution_count": 0,
      "outputs": []
    },
    {
      "metadata": {
        "id": "pmmtHHQESXmT",
        "colab_type": "text"
      },
      "cell_type": "markdown",
      "source": [
        "Her kan vi se at 'average_rating' korrelerer helt med seg selv. Dette er slik det skal være. I tillegg har også id en høy korrelasjon. Grunnen til dette kan være at eldre spill får dårligere rating, siden nye spill kanskje er mer komplekse og dermed får en bedre score.\n",
        "\n",
        "Nå skal vi velge hvilke kolonner som skal være med i prediksjonen. Som nevnt tidligere er det vanskelig å bruke kolonner som ikke er numeriske til prediksjone. I tillegg må vi fjerne alle kolonner som er et resultat av rating. Siden vi skal predikere rating, har vi altså ikke tilgang til en del av kolonnene som er laget med utgangspunkt i rating.\n",
        "\n",
        "Først kan vi hente ut alle kolonnene og liste opp disse."
      ]
    },
    {
      "metadata": {
        "id": "8bcer4fiTm7A",
        "colab_type": "code",
        "colab": {}
      },
      "cell_type": "code",
      "source": [
        "columns = games.columns.tolist()\n",
        "print(columns)"
      ],
      "execution_count": 0,
      "outputs": []
    },
    {
      "metadata": {
        "id": "9roAxW24Tza3",
        "colab_type": "text"
      },
      "cell_type": "markdown",
      "source": [
        "Videre fjerne vi kolonner som vi ikke skal bruke, altså kolonnene vi skal predikere, de som inneholder tekst, og de som blir laget som et resultat av rating."
      ]
    },
    {
      "metadata": {
        "id": "ehk2_Fz-T9dP",
        "colab_type": "code",
        "colab": {}
      },
      "cell_type": "code",
      "source": [
        "columns = [c for c in columns if c not in [\"average_rating\", \"bayes_average_rating\", \"type\", \"name\"]]"
      ],
      "execution_count": 0,
      "outputs": []
    },
    {
      "metadata": {
        "id": "D3E2plUZU-4C",
        "colab_type": "text"
      },
      "cell_type": "markdown",
      "source": [
        "Vi lagrer også det vi vil predikere i en variabel."
      ]
    },
    {
      "metadata": {
        "id": "hHW9L436VH-t",
        "colab_type": "code",
        "colab": {}
      },
      "cell_type": "code",
      "source": [
        "target = \"average_rating\""
      ],
      "execution_count": 0,
      "outputs": []
    },
    {
      "metadata": {
        "id": "L3D4NqTwWHWc",
        "colab_type": "text"
      },
      "cell_type": "markdown",
      "source": [
        "### Trening og test\n",
        "For å kunne finne ut hvor bra algoritmen vår gjør det, må vi dele datasettet i to, ett for trening og ett for test. Grunnen til dette er at vi ønsker å evaluere algoritmen på data den ikke har sett tidliger. Vi deler derfor datasettet vårt inn i et treningssett som består av 80% av dataen, og et testsett som består av 20%. For å kunne gjenskape resultatet setter vi random_state til 1."
      ]
    },
    {
      "metadata": {
        "id": "j_t60-BghvTT",
        "colab_type": "code",
        "colab": {}
      },
      "cell_type": "code",
      "source": [
        "train = games.sample(frac=0.8, random_state=1)\n",
        "test = games.loc[~games.index.isin(train.index)]"
      ],
      "execution_count": 0,
      "outputs": []
    },
    {
      "metadata": {
        "id": "xesHVTTUiTsJ",
        "colab_type": "text"
      },
      "cell_type": "markdown",
      "source": [
        "Vi sjekker størrelsen på de ulike settene."
      ]
    },
    {
      "metadata": {
        "id": "YcrD0CK1iXln",
        "colab_type": "code",
        "colab": {}
      },
      "cell_type": "code",
      "source": [
        "print(train.shape)\n",
        "print(test.shape)"
      ],
      "execution_count": 0,
      "outputs": []
    },
    {
      "metadata": {
        "id": "ttD_rUzii_T4",
        "colab_type": "text"
      },
      "cell_type": "markdown",
      "source": [
        "Lineær regresjon passer fint dersom variablene man bruker for prediksjon og målet (target) har en korrelasjon. Dette så vi i stad, og vi prøver derfor å bruke en lineær regresjonsmodell."
      ]
    },
    {
      "metadata": {
        "id": "idYgVYvHjXqh",
        "colab_type": "code",
        "colab": {}
      },
      "cell_type": "code",
      "source": [
        "model = LinearRegression()"
      ],
      "execution_count": 0,
      "outputs": []
    },
    {
      "metadata": {
        "id": "M8zz-IxHjcG1",
        "colab_type": "text"
      },
      "cell_type": "markdown",
      "source": [
        "Videre bruker vi modellen på treningsdataene og sier hvilken kolonne vi skal forutse."
      ]
    },
    {
      "metadata": {
        "id": "vzjGGaRtjjZx",
        "colab_type": "code",
        "colab": {}
      },
      "cell_type": "code",
      "source": [
        "model.fit(train[columns], train[target])"
      ],
      "execution_count": 0,
      "outputs": []
    },
    {
      "metadata": {
        "id": "o5jcdr2mjcBM",
        "colab_type": "text"
      },
      "cell_type": "markdown",
      "source": [
        "Vi skal nå lage prediksjoner for testsettet."
      ]
    },
    {
      "metadata": {
        "id": "PwRL9OW2kPDo",
        "colab_type": "code",
        "colab": {}
      },
      "cell_type": "code",
      "source": [
        "predictions = model.predict(test[columns])"
      ],
      "execution_count": 0,
      "outputs": []
    },
    {
      "metadata": {
        "id": "1Bvy8hJ6kYvt",
        "colab_type": "text"
      },
      "cell_type": "markdown",
      "source": [
        "For å finne ut hvor bra algoritmen gjør det, kan sjekke mean squared error (MSE). Dette vil vise hvor langt fra den riktig prediksjonen algoritmen er, i gjennomsnitt."
      ]
    },
    {
      "metadata": {
        "id": "B18K15mzkyUW",
        "colab_type": "code",
        "colab": {}
      },
      "cell_type": "code",
      "source": [
        "mean_squared_error(predictions, test[target])"
      ],
      "execution_count": 0,
      "outputs": []
    },
    {
      "metadata": {
        "id": "aTbepllflBjF",
        "colab_type": "text"
      },
      "cell_type": "markdown",
      "source": [
        "## Random Forest\n",
        "Vi har nå prøvd oss på lineær regresjon. Videre kan vi teste det samme ved å bruke en annen model, nemlig random forest. Denne klarer også å finne sammenhenger i datasettet som ikke er lineære."
      ]
    },
    {
      "metadata": {
        "id": "qjy7mJ9rlYdC",
        "colab_type": "code",
        "colab": {}
      },
      "cell_type": "code",
      "source": [
        "# Importer random forest\n",
        "from sklearn.ensemble import RandomForestRegressor\n",
        "\n",
        "# Initialiser modellen\n",
        "model = RandomForestRegressor(n_estimators=100, min_samples_leaf=10, random_state=1)\n",
        "\n",
        "# Bruk modellen på treningsdata\n",
        "model.fit(train[columns], train[target])\n",
        "\n",
        "# Gjør prediksjoner\n",
        "predictions = model.predict(test[columns])\n",
        "\n",
        "# Sjekk feilen\n",
        "mean_squared_error(predictions, test[target])"
      ],
      "execution_count": 0,
      "outputs": []
    },
    {
      "metadata": {
        "id": "uSvMFmrOmdnm",
        "colab_type": "text"
      },
      "cell_type": "markdown",
      "source": [
        "## Forslag til videre arbeid\n",
        "\n",
        "- Prøv support vector machine (SVM)\n",
        "- Prøv å slå sammen flere algoritmer for å få bedre resultat\n",
        "- Prøv å forutsi en annen kolonne, slik som 'average_weight'\n",
        "- Lag features basert på de ulike tekskolonnen, slik som lengden på navnet til spillet, antall ord, etc."
      ]
    }
  ]
}