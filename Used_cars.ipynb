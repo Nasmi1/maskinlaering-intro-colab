{
  "nbformat": 4,
  "nbformat_minor": 0,
  "metadata": {
    "colab": {
      "name": "Used cars.ipynb",
      "version": "0.3.2",
      "provenance": [],
      "collapsed_sections": [],
      "toc_visible": true
    },
    "kernelspec": {
      "name": "python3",
      "display_name": "Python 3"
    }
  },
  "cells": [
    {
      "metadata": {
        "id": "2ok0EovpXHab",
        "colab_type": "text"
      },
      "cell_type": "markdown",
      "source": [
        "# Used Cars\n",
        "\n",
        "Nå skal vi forsøke å anvende maskinlæringsmodeller på bruktbilmarkedet."
      ]
    },
    {
      "metadata": {
        "id": "TsSLBwKoaPpU",
        "colab_type": "text"
      },
      "cell_type": "markdown",
      "source": [
        "## Forberedelser"
      ]
    },
    {
      "metadata": {
        "id": "B9njFUrUbKz-",
        "colab_type": "text"
      },
      "cell_type": "markdown",
      "source": [
        "Importer nødvendige biblioteker"
      ]
    },
    {
      "metadata": {
        "id": "oGIGrS4kZORH",
        "colab_type": "code",
        "colab": {}
      },
      "cell_type": "code",
      "source": [
        "# Biblioteket som vi bruker for å lese og behandle datasettet som kommer fra CSV.\n",
        "import pandas as pd\n",
        "\n",
        "# I supervised learning er hver input koblet til en fasit, også kalt \"label\".\n",
        "# LabelEncoder brukes for å gjøre fasiten enklere å behandle.\n",
        "from sklearn.preprocessing import LabelEncoder\n",
        "\n",
        "# Til slutt må vi importere maskinlæringsmodellene som vi bruker for å trene.\n",
        "from sklearn import model_selection, metrics, svm"
      ],
      "execution_count": 0,
      "outputs": []
    },
    {
      "metadata": {
        "id": "Z49An3oIZQ_B",
        "colab_type": "text"
      },
      "cell_type": "markdown",
      "source": [
        "Bruk pandas og importer datasettet som ligger https://github.com/djick/ML101/blob/master/data/usedcars.csv"
      ]
    },
    {
      "metadata": {
        "id": "_98Gf7jyV0XR",
        "colab_type": "code",
        "colab": {}
      },
      "cell_type": "code",
      "source": [
        "!wget -q https://raw.githubusercontent.com/djick/ML101/master/data/usedcars.csv -O usedcars.csv"
      ],
      "execution_count": 0,
      "outputs": []
    },
    {
      "metadata": {
        "id": "O47DQTfcbsqt",
        "colab_type": "code",
        "colab": {}
      },
      "cell_type": "code",
      "source": [
        "usedcars = pd.read_csv(\"usedcars.csv\")"
      ],
      "execution_count": 0,
      "outputs": []
    },
    {
      "metadata": {
        "id": "hRKlKED6bxtH",
        "colab_type": "text"
      },
      "cell_type": "markdown",
      "source": [
        "Vi kan undersøke hva som faktisk ligger i datasettet, hva som skal gå inn i modellen vår, og hva labelen skal være."
      ]
    },
    {
      "metadata": {
        "id": "azCxRvJYcHOa",
        "colab_type": "code",
        "outputId": "9e853779-652b-4d30-ab3c-ab8ad14af7ac",
        "colab": {
          "base_uri": "https://localhost:8080/",
          "height": 233
        }
      },
      "cell_type": "code",
      "source": [
        "print(\"De første radene i CSV-filen:\")\n",
        "print(usedcars.head(10))"
      ],
      "execution_count": 0,
      "outputs": [
        {
          "output_type": "stream",
          "text": [
            "De første radene i CSV-filen:\n",
            "   year model  price  mileage   color transmission\n",
            "0  2011   SEL  21992     7413  Yellow         AUTO\n",
            "1  2011   SEL  20995    10926    Gray         AUTO\n",
            "2  2011   SEL  19995     7351  Silver         AUTO\n",
            "3  2011   SEL  17809    11613    Gray         AUTO\n",
            "4  2012    SE  17500     8367   White         AUTO\n",
            "5  2010   SEL  17495    25125  Silver         AUTO\n",
            "6  2011   SEL  17000    27393    Blue         AUTO\n",
            "7  2010   SEL  16995    21026  Silver         AUTO\n",
            "8  2011   SES  16995    32655  Silver         AUTO\n",
            "9  2010   SES  16995    36116  Silver         AUTO\n"
          ],
          "name": "stdout"
        }
      ]
    },
    {
      "metadata": {
        "id": "Lo06jjYPiHPI",
        "colab_type": "text"
      },
      "cell_type": "markdown",
      "source": [
        "Her får vi se alle featurene som vi har å jobbe med, og er det jo noen muligheter for hva man kan prøve å predikere. Hvilken som helst av disse kolonnene kan være labelen.\n",
        "\n",
        "Videre, litt statistikk og analyse av hvordan de numeriske verdiene er distribuert."
      ]
    },
    {
      "metadata": {
        "id": "-D1pbSKWiERS",
        "colab_type": "code",
        "outputId": "f9feff8c-4690-47c1-d331-0778d5faf31f",
        "colab": {
          "base_uri": "https://localhost:8080/",
          "height": 323
        }
      },
      "cell_type": "code",
      "source": [
        "print(\"Statistiske verdier for datasettet:\")\n",
        "print(usedcars.describe())\n",
        "\n",
        "print(\"\\nKlassedistrubisjon: \")\n",
        "print(usedcars.groupby(\"transmission\").size())\n",
        "print(60 * \"=\")"
      ],
      "execution_count": 0,
      "outputs": [
        {
          "output_type": "stream",
          "text": [
            "Statistiske verdier for datasettet:\n",
            "              year         price        mileage\n",
            "count   150.000000    150.000000     150.000000\n",
            "mean   2008.726667  12961.933333   44260.646667\n",
            "std       2.200966   3122.481735   26982.104322\n",
            "min    2000.000000   3800.000000    4867.000000\n",
            "25%    2008.000000  10995.000000   27200.250000\n",
            "50%    2009.000000  13591.500000   36385.000000\n",
            "75%    2010.000000  14904.500000   55124.500000\n",
            "max    2012.000000  21992.000000  151479.000000\n",
            "\n",
            "Klassedistrubisjon: \n",
            "transmission\n",
            "AUTO      128\n",
            "MANUAL     22\n",
            "dtype: int64\n",
            "============================================================\n"
          ],
          "name": "stdout"
        }
      ]
    },
    {
      "metadata": {
        "id": "bP5_BqLJjiQB",
        "colab_type": "text"
      },
      "cell_type": "markdown",
      "source": [
        "Da maskinlæringsmodellene som vi bruker liker numeriske verdier bedre enn ord må vi endre på noe av datasettet. \n",
        "\n",
        "Vi finner to kategorier med potensielle labels som man kan bruke til\n",
        "\n",
        "1. Classification: Labelsene puttes i hver sin boks eller klasse. F.eks. verdiene i kolonnen \"color\". Fargen gul har ikke noen sammenheng med fargen hvit, derav klassene.\n",
        "2. Regression: Labelsene finnes på samme dimensjon. Pris er et bra eksempel.\n",
        "\n",
        "\n",
        "\n",
        "\n"
      ]
    },
    {
      "metadata": {
        "id": "YShSevC-kFb5",
        "colab_type": "code",
        "colab": {}
      },
      "cell_type": "code",
      "source": [
        "encoder = LabelEncoder()\n",
        "# Tilpasser encoderen til featuren \"model\"\n",
        "encoder.fit(usedcars[\"model\"])\n",
        "# Endrer den faktiske verdien i datasettet. Modellen \"SEL\" blir f.eks. til klasse \"A\".\n",
        "usedcars[\"model\"] = encoder.fit_transform(usedcars[\"model\"])\n",
        "\n",
        "# Resetter encoderen\n",
        "encoder = LabelEncoder()\n",
        "# TODO gjør det samme for \"color\"\n",
        "encoder.fit(usedcars[\"color\"])\n",
        "usedcars[\"color\"] = encoder.fit_transform(usedcars[\"color\"])\n"
      ],
      "execution_count": 0,
      "outputs": []
    },
    {
      "metadata": {
        "id": "WK-FQjqgk52u",
        "colab_type": "text"
      },
      "cell_type": "markdown",
      "source": [
        "Sjekk nå hvordan datasettet ser ut. Du *kan* også sjekke hvordan distribusjonen av featurene er nå, men det skal være det samme som før fordi det eneste du gjorde var å oversette featurene."
      ]
    },
    {
      "metadata": {
        "id": "Wnxr-ZBglBZI",
        "colab_type": "code",
        "outputId": "1c7e7181-9030-4901-a52b-519d7f7e074b",
        "colab": {
          "base_uri": "https://localhost:8080/",
          "height": 215
        }
      },
      "cell_type": "code",
      "source": [
        "# TODO print ut noen rader og sjekk.\n",
        "print(usedcars.head(10))"
      ],
      "execution_count": 0,
      "outputs": [
        {
          "output_type": "stream",
          "text": [
            "   year  model  price  mileage  color transmission\n",
            "0  2011      1  21992     7413      8         AUTO\n",
            "1  2011      1  20995    10926      3         AUTO\n",
            "2  2011      1  19995     7351      6         AUTO\n",
            "3  2011      1  17809    11613      3         AUTO\n",
            "4  2012      0  17500     8367      7         AUTO\n",
            "5  2010      1  17495    25125      6         AUTO\n",
            "6  2011      1  17000    27393      1         AUTO\n",
            "7  2010      1  16995    21026      6         AUTO\n",
            "8  2011      2  16995    32655      6         AUTO\n",
            "9  2010      2  16995    36116      6         AUTO\n"
          ],
          "name": "stdout"
        }
      ]
    },
    {
      "metadata": {
        "id": "GrI8NnU4rZzu",
        "colab_type": "text"
      },
      "cell_type": "markdown",
      "source": [
        "Separer features fra targets. Targets er hva du har lyst å predikere."
      ]
    },
    {
      "metadata": {
        "id": "AYPMmaNjraRv",
        "colab_type": "code",
        "colab": {}
      },
      "cell_type": "code",
      "source": [
        "verdier = usedcars[[\"year\", \"model\", \"price\", \"mileage\", \"color\"]]\n",
        "klasser = usedcars[\"transmission\"]"
      ],
      "execution_count": 0,
      "outputs": []
    },
    {
      "metadata": {
        "id": "Alg7ELvas_jB",
        "colab_type": "text"
      },
      "cell_type": "markdown",
      "source": [
        "Nå er tiden inne for å dele datasettet opp i trening og test."
      ]
    },
    {
      "metadata": {
        "id": "o6hv374_roNd",
        "colab_type": "code",
        "colab": {}
      },
      "cell_type": "code",
      "source": [
        "\n",
        "X_train, X_test, y_train, y_test = model_selection.train_test_split(verdier, klasser, test_size=0.33, random_state=1)"
      ],
      "execution_count": 0,
      "outputs": []
    },
    {
      "metadata": {
        "id": "VpAh2VdrtbzC",
        "colab_type": "text"
      },
      "cell_type": "markdown",
      "source": [
        "`X` er featurene og `y` er labelsene. `test_size=0.33` betyr at du tar vare på 33 % av hele datasettet til å validere hvor bra modellen ble trent. `random_state` settes for å shuffle til alle bilene; da unngår man at test og treningsgruppene blir skjevt fordelt."
      ]
    },
    {
      "metadata": {
        "id": "CdR9so2Tj1Iv",
        "colab_type": "text"
      },
      "cell_type": "markdown",
      "source": [
        "## Tren modellen\n",
        "Forarbeidet er gjort. Vi må velge hvilken maskinlæringsmodell vi vil gå for, og deretter trene modellen. Det finnes ganske mange modeller å gå for, alt etter hva `target` er. Det vi vet helt sikkert er at vi skal gå for modeller innenfor supervised learning, og at vi skal gå for classification (ikke regression). Nå er google din venn, og Scikit learn sine websider har bra med dokumentasjon og tutorials.\n",
        "\n",
        "Et raskt websøk gir https://medium.com/cracking-the-data-science-interview/a-tour-of-the-top-10-algorithms-for-machine-learning-newbies-7228aa8ef541\n",
        "\n",
        "En oversikt over hvilke modeller Scikit learn har å tilby: https://scikit-learn.org/stable/supervised_learning.html"
      ]
    },
    {
      "metadata": {
        "id": "zOJTr4ummHyY",
        "colab_type": "code",
        "outputId": "f66d9c2b-cde3-4ceb-9766-bf5b2a9a0d74",
        "colab": {
          "base_uri": "https://localhost:8080/",
          "height": 125
        }
      },
      "cell_type": "code",
      "source": [
        "## Lag en klassifiseringsmodell\n",
        "print(\"Modell:\")\n",
        "# Benytter SVM - Support Vector Machine\n",
        "classifier = svm.SVC()\n",
        "print(classifier)\n",
        "print(60 * \"=\")"
      ],
      "execution_count": 0,
      "outputs": [
        {
          "output_type": "stream",
          "text": [
            "Modell:\n",
            "SVC(C=1.0, cache_size=200, class_weight=None, coef0=0.0,\n",
            "  decision_function_shape='ovr', degree=3, gamma='auto_deprecated',\n",
            "  kernel='rbf', max_iter=-1, probability=False, random_state=None,\n",
            "  shrinking=True, tol=0.001, verbose=False)\n",
            "============================================================\n"
          ],
          "name": "stdout"
        }
      ]
    },
    {
      "metadata": {
        "id": "_wsuoJgBuyIb",
        "colab_type": "text"
      },
      "cell_type": "markdown",
      "source": [
        "Tren modellen!"
      ]
    },
    {
      "metadata": {
        "id": "V4NeM6mkuyR3",
        "colab_type": "code",
        "outputId": "86527a2e-9c5d-4bba-93ea-82f1d82dcef2",
        "colab": {
          "base_uri": "https://localhost:8080/",
          "height": 125
        }
      },
      "cell_type": "code",
      "source": [
        "classifier.fit(X_train, y_train)"
      ],
      "execution_count": 0,
      "outputs": [
        {
          "output_type": "stream",
          "text": [
            "/usr/local/lib/python3.6/dist-packages/sklearn/svm/base.py:196: FutureWarning: The default value of gamma will change from 'auto' to 'scale' in version 0.22 to account better for unscaled features. Set gamma explicitly to 'auto' or 'scale' to avoid this warning.\n",
            "  \"avoid this warning.\", FutureWarning)\n"
          ],
          "name": "stderr"
        },
        {
          "output_type": "execute_result",
          "data": {
            "text/plain": [
              "SVC(C=1.0, cache_size=200, class_weight=None, coef0=0.0,\n",
              "  decision_function_shape='ovr', degree=3, gamma='auto_deprecated',\n",
              "  kernel='rbf', max_iter=-1, probability=False, random_state=None,\n",
              "  shrinking=True, tol=0.001, verbose=False)"
            ]
          },
          "metadata": {
            "tags": []
          },
          "execution_count": 93
        }
      ]
    },
    {
      "metadata": {
        "id": "AX_DqYKzj4tl",
        "colab_type": "text"
      },
      "cell_type": "markdown",
      "source": [
        "## Test modellen\n",
        "De 33 % av datasettet vi sparte i stad får vi nå bruk for."
      ]
    },
    {
      "metadata": {
        "id": "p8VVOGxymJyd",
        "colab_type": "code",
        "colab": {}
      },
      "cell_type": "code",
      "source": [
        "# Prediker (test)\n",
        "prediksjoner = classifier.predict(X_test)"
      ],
      "execution_count": 0,
      "outputs": []
    },
    {
      "metadata": {
        "id": "Lk_x_7CHmPwz",
        "colab_type": "text"
      },
      "cell_type": "markdown",
      "source": [
        "`prediksjoner` bør nå være så lik som mulig `y_test`."
      ]
    },
    {
      "metadata": {
        "id": "WMhVAopUmMdA",
        "colab_type": "code",
        "outputId": "85563499-9f01-482c-a1e6-ae1ba5cc2ab1",
        "colab": {
          "base_uri": "https://localhost:8080/",
          "height": 323
        }
      },
      "cell_type": "code",
      "source": [
        "print(\"Resultater:\")\n",
        "print(metrics.classification_report(y_test, prediksjoner, target_names=usedcars[\"transmission\"].unique()))\n",
        "print(60 * \"=\")\n",
        "\n",
        "print(\"Confusion matrix:\")\n",
        "print(metrics.confusion_matrix(y_test, prediksjoner))\n",
        "print(60 * \"=\")"
      ],
      "execution_count": 0,
      "outputs": [
        {
          "output_type": "stream",
          "text": [
            "Resultater:\n",
            "              precision    recall  f1-score   support\n",
            "\n",
            "        AUTO       0.80      1.00      0.89        40\n",
            "      MANUAL       0.00      0.00      0.00        10\n",
            "\n",
            "   micro avg       0.80      0.80      0.80        50\n",
            "   macro avg       0.40      0.50      0.44        50\n",
            "weighted avg       0.64      0.80      0.71        50\n",
            "\n",
            "============================================================\n",
            "Confusion matrix:\n",
            "[[40  0]\n",
            " [10  0]]\n",
            "============================================================\n"
          ],
          "name": "stdout"
        },
        {
          "output_type": "stream",
          "text": [
            "/usr/local/lib/python3.6/dist-packages/sklearn/metrics/classification.py:1143: UndefinedMetricWarning: Precision and F-score are ill-defined and being set to 0.0 in labels with no predicted samples.\n",
            "  'precision', 'predicted', average, warn_for)\n"
          ],
          "name": "stderr"
        }
      ]
    },
    {
      "metadata": {
        "id": "3I3F2rw0yOtg",
        "colab_type": "text"
      },
      "cell_type": "markdown",
      "source": [
        "Hvor bra ble det?\n",
        "\n",
        "Finnes det andre modeller som gir bedre resultat enn `SVM`?\n",
        "\n",
        "Utfør noen stikkprøver og sjekk hvor ofte modellen treffer riktig."
      ]
    },
    {
      "metadata": {
        "id": "0gAtgDo8-7-K",
        "colab_type": "code",
        "outputId": "6a8f78a6-88b0-488c-93da-0844401364d6",
        "colab": {
          "base_uri": "https://localhost:8080/",
          "height": 269
        }
      },
      "cell_type": "code",
      "source": [
        "print(\"Prediksjon:\")\n",
        "print(y_test.head(10))\n",
        "print(\"Fasit:\")\n",
        "print(prediksjoner[0:10])"
      ],
      "execution_count": 0,
      "outputs": [
        {
          "output_type": "stream",
          "text": [
            "Prediksjon:\n",
            "14       AUTO\n",
            "98       AUTO\n",
            "75       AUTO\n",
            "16       AUTO\n",
            "131      AUTO\n",
            "56     MANUAL\n",
            "141      AUTO\n",
            "44       AUTO\n",
            "29       AUTO\n",
            "120      AUTO\n",
            "Name: transmission, dtype: object\n",
            "Fasit:\n",
            "['AUTO' 'AUTO' 'AUTO' 'AUTO' 'AUTO' 'AUTO' 'AUTO' 'AUTO' 'AUTO' 'AUTO']\n"
          ],
          "name": "stdout"
        }
      ]
    },
    {
      "metadata": {
        "id": "9-DleblBgfjp",
        "colab_type": "text"
      },
      "cell_type": "markdown",
      "source": [
        "# Ny modell – pris\n",
        "\n",
        "Det som kanskje er mer artig er å gjette prisen på en bruktbil. Gjenbruk mye av det ovenfor, men i stedet for å velge `transmission` som target skal du nå velge `price`. Her vil det ikke holde med `SVM` da den brukes til klassifisering. Nå må du se etter en modell som kan utføre regression."
      ]
    },
    {
      "metadata": {
        "id": "DbTuUYrA62mf",
        "colab_type": "code",
        "outputId": "4c3bd6f4-6959-483f-d975-ba2b97560d06",
        "colab": {
          "base_uri": "https://localhost:8080/",
          "height": 107
        }
      },
      "cell_type": "code",
      "source": [
        "# TODO importer en modell fra sklearn som kan utføre regression\n",
        "from sklearn.linear_model import LinearRegression\n",
        "\n",
        "encoder = LabelEncoder()\n",
        "encoder.fit(usedcars[\"transmission\"])\n",
        "usedcars[\"transmission\"] = encoder.fit_transform(usedcars[\"transmission\"])\n",
        "\n",
        "# TODO velg nytt target, dvs. price\n",
        "verdier = usedcars[[\"year\", \"model\", \"transmission\", \"mileage\", \"color\"]]\n",
        "klasser = usedcars[\"price\"]\n",
        "\n",
        "# TODO del opp i trening og test\n",
        "X_train, X_test, y_train, y_test = model_selection.train_test_split(verdier, klasser, test_size=0.33, random_state=1)\n",
        "\n",
        "# TODO opprett en instans av modellen du valgte å importere\n",
        "classifier = LinearRegression()\n",
        "print(classifier)\n",
        "print(60 * \"=\")\n",
        "\n",
        "# TODO tren\n",
        "classifier.fit(X_train, y_train)\n",
        "\n"
      ],
      "execution_count": 0,
      "outputs": [
        {
          "output_type": "stream",
          "text": [
            "LinearRegression(copy_X=True, fit_intercept=True, n_jobs=None,\n",
            "         normalize=False)\n",
            "============================================================\n"
          ],
          "name": "stdout"
        },
        {
          "output_type": "execute_result",
          "data": {
            "text/plain": [
              "LinearRegression(copy_X=True, fit_intercept=True, n_jobs=None,\n",
              "         normalize=False)"
            ]
          },
          "metadata": {
            "tags": []
          },
          "execution_count": 97
        }
      ]
    },
    {
      "metadata": {
        "id": "f36pG3CWMNar",
        "colab_type": "code",
        "outputId": "c1541491-030a-4a02-a705-13ee3921c60a",
        "colab": {
          "base_uri": "https://localhost:8080/",
          "height": 503
        }
      },
      "cell_type": "code",
      "source": [
        "print(X_test.head())\n",
        "print(X_train.head())\n",
        "print()\n",
        "\n",
        "\n",
        "# TODO prediker\n",
        "prediksjoner = classifier.predict(X_test)\n",
        "\n",
        "print(y_test.head(10))\n",
        "print(prediksjoner[0:10])"
      ],
      "execution_count": 0,
      "outputs": [
        {
          "output_type": "stream",
          "text": [
            "     year  model  transmission  mileage  color\n",
            "14   2011      0             0    15367      7\n",
            "98   2009      0             0    44789      3\n",
            "75   2009      1             0    43369      5\n",
            "16   2010      1             0    19926      6\n",
            "131  2006      0             0    71331      7\n",
            "     year  model  transmission  mileage  color\n",
            "39   2010      0             0    11165      7\n",
            "36   2011      0             0    23967      7\n",
            "117  2008      0             1    40330      4\n",
            "139  2005      2             0    59013      5\n",
            "107  2008      0             0    38286      0\n",
            "\n",
            "14     16000\n",
            "98     12507\n",
            "75     13584\n",
            "16     15999\n",
            "131     8800\n",
            "56     13995\n",
            "141     6995\n",
            "44     14499\n",
            "29     14999\n",
            "120    10717\n",
            "Name: price, dtype: int64\n",
            "[16316.36571581 13075.53018689 13627.05309504 15508.45001908\n",
            "  9875.390331   13529.02155667 10075.6650571  14589.08474623\n",
            " 14139.31573281 12834.3953845 ]\n"
          ],
          "name": "stdout"
        }
      ]
    }
  ]
}